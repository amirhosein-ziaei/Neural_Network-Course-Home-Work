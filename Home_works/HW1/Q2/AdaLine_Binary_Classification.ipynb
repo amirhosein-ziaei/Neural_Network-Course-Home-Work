{
  "cells": [
    {
      "cell_type": "code",
      "execution_count": 11,
      "metadata": {
        "id": "vB05cceD7MrE"
      },
      "outputs": [],
      "source": [
        "import numpy as np\n",
        "import pandas as pd\n",
        "import seaborn as sns\n",
        "import matplotlib.pyplot as plt\n",
        "from sklearn.metrics import classification_report"
      ]
    },
    {
      "cell_type": "code",
      "execution_count": 37,
      "metadata": {
        "id": "hNqI5qTL7MrG"
      },
      "outputs": [],
      "source": [
        "Input_1 = np.random.normal(3, 0.5, 150).reshape(-1,1)\n",
        "Output_1 = np.random.normal(0, 0.5, 150).reshape(-1,1)\n",
        "Data_set_1 = pd.DataFrame(np.concatenate((Input_1, Output_1), axis=1), columns=['x','y'])\n",
        "Data_set_1['label'] = -1\n",
        "\n",
        "Input_2 = np.random.normal(0, 0.2, 30).reshape(-1,1)\n",
        "Output_2 = np.random.normal(1, 0.5, 30).reshape(-1,1)\n",
        "Data_set_2 = pd.DataFrame(np.concatenate((Input_2, Output_2), axis=1), columns=['x','y'])\n",
        "Data_set_2['label'] = 1\n",
        "\n",
        "Data_set = pd.concat([Data_set_1,Data_set_2], axis = 0)"
      ]
    },
    {
      "cell_type": "code",
      "execution_count": 38,
      "metadata": {
        "colab": {
          "base_uri": "https://localhost:8080/"
        },
        "id": "nnsbykdE7MrH",
        "outputId": "a6316785-301c-48e5-c4a6-632dac4c621a",
        "scrolled": false
      },
      "outputs": [
        {
          "name": "stdout",
          "output_type": "stream",
          "text": [
            "<class 'pandas.core.frame.DataFrame'>\n",
            "Int64Index: 180 entries, 0 to 29\n",
            "Data columns (total 3 columns):\n",
            " #   Column  Non-Null Count  Dtype  \n",
            "---  ------  --------------  -----  \n",
            " 0   x       180 non-null    float64\n",
            " 1   y       180 non-null    float64\n",
            " 2   label   180 non-null    int64  \n",
            "dtypes: float64(2), int64(1)\n",
            "memory usage: 5.6 KB\n"
          ]
        }
      ],
      "source": [
        "Data_set.info()"
      ]
    },
    {
      "cell_type": "code",
      "execution_count": 39,
      "metadata": {
        "colab": {
          "base_uri": "https://localhost:8080/",
          "height": 369
        },
        "id": "s_L-xLQh7MrJ",
        "outputId": "ccb4e5df-26f6-4288-eb57-eaa46a72de28"
      },
      "outputs": [
        {
          "data": {
            "image/png": "[encoded data removed]",
            "text/plain": [
              "<Figure size 406x360 with 1 Axes>"
            ]
          },
          "metadata": {
            "needs_background": "light"
          },
          "output_type": "display_data"
        }
      ],
      "source": [
        "sns.relplot(x=\"x\", y=\"y\", hue=\"label\", data=Data_set);"
      ]
    },
    {
      "cell_type": "markdown",
      "metadata": {
        "id": "bLSedsT37MrJ"
      },
      "source": [
        "As you can see, these 2 categories are linearly separable."
      ]
    },
    {
      "cell_type": "code",
      "execution_count": 40,
      "metadata": {
        "id": "QcIQC9sn7MrK"
      },
      "outputs": [],
      "source": [
        "class AdaLine_Neural_Network() :\n",
        "    \n",
        "    def __init__(self, input_features, output_features, seed = 50) :\n",
        "        #Seed\n",
        "        np.random.seed(seed)\n",
        "\n",
        "        self.input_features = input_features\n",
        "        self.output_features = output_features\n",
        "        self.init_wa()\n",
        "        \n",
        "    def init_waa(self) :\n",
        "        self.weights = np.random.uniform(low=-1, high=1, size=(input_features*output_features,)).reshape(output_features,-1)\n",
        "        self.biases = np.random.uniform(low=-1, high=1, size=(output_features,))\n",
        "        \n",
        "        self.Learning_Rate = 0.01\n",
        "        \n",
        "    def Positive(self,num) :\n",
        "        if num >= 0 :\n",
        "            return 1\n",
        "        else :\n",
        "            return -1\n",
        "    def forward(self, x) :\n",
        "        sum = np.matmul(self.weights,x)+self.biases\n",
        "        Prediction_result = pd.Series(np.matmul(self.weights,x)+self.biases)\n",
        "        Prediction_result = prediction.apply(self.Positive).values\n",
        "        return Prediction_result,sum\n",
        "    \n",
        "    def backward(self,t, sum, x) :\n",
        "        self.weights = self.weights + self.Learning_Rate*(t-sum)*x\n",
        "        self.biases = self.biases + self.Learnig_Rate*(t-sum)\n",
        "        \n",
        "    def train(self,data,epochs = 1) :\n",
        "        error = []\n",
        "        for epoch in range(0,epochs):\n",
        "            error.append(self.evaluate(Data_set))\n",
        "            \n",
        "            for index, row in Data_set.iterrows():\n",
        "                # Forward Propagation\n",
        "                prediction,sum = self.forward(row[['x','y']].values)\n",
        "                # Backpropagation\n",
        "                self.backward(row['label'],sum,row[['x','y']].values)\n",
        "        \n",
        "        return error\n",
        "                \n",
        "    def calc_error(self,target,sum) :\n",
        "        return (np.square(target-sum)/2)\n",
        "    \n",
        "    def evaluate(self,data) :\n",
        "        error = 0\n",
        "        for index, row in data.iterrows():\n",
        "            #Forward Propagation\n",
        "            target_1,sum = self.forward(row[['x','y']].values)\n",
        "            error += model.calc_error(target_1,sum)[0]\n",
        "        \n",
        "        return error\n",
        "    \n",
        "    def predict(self,data) :\n",
        "        result = []\n",
        "        for index, row in data.iterrows() :\n",
        "            target,sum =  self.forward(row[['x','y']].values)\n",
        "            result.append(target[0])\n",
        "        \n",
        "        return result\n",
        "            "
      ]
    },
    {
      "cell_type": "code",
      "execution_count": 45,
      "metadata": {
        "colab": {
          "base_uri": "https://localhost:8080/"
        },
        "id": "lGuQFOMp7MrM",
        "outputId": "bd1374d6-4c0a-4627-a574-d2f1911d4bf4"
      },
      "outputs": [
        {
          "name": "stdout",
          "output_type": "stream",
          "text": [
            "[[-0.25091976  0.90142861]]\n",
            "[0.46398788]\n"
          ]
        }
      ],
      "source": [
        "input_features = 2\n",
        "output_features = 1\n",
        "model = AdaLineNetwork(input_features, output_features)\n",
        "print(model.weights)\n",
        "print(model.biases)"
      ]
    },
    {
      "cell_type": "code",
      "execution_count": 49,
      "metadata": {
        "id": "SA2lcDo37MrN"
      },
      "outputs": [],
      "source": [
        "epochs_ = 10\n",
        "loss_per_epoch = model.train(Data_set, epochs = epochs_)"
      ]
    },
    {
      "cell_type": "code",
      "execution_count": 50,
      "metadata": {
        "colab": {
          "base_uri": "https://localhost:8080/"
        },
        "id": "IQjyfWLD7MrN",
        "outputId": "9dc9bf8c-90d7-47d3-9ff1-c99ffc779e87"
      },
      "outputs": [
        {
          "data": {
            "text/plain": [
              "[33.401611129654775,\n",
              " 9.219800265458987,\n",
              " 9.279040512273058,\n",
              " 9.286955611821503,\n",
              " 9.273361142892956,\n",
              " 9.253556207731549,\n",
              " 9.233595771034,\n",
              " 9.215507538225268,\n",
              " 9.199759603525509,\n",
              " 9.186266655664008]"
            ]
          },
          "execution_count": 50,
          "metadata": {},
          "output_type": "execute_result"
        }
      ],
      "source": [
        "loss_per_epoch"
      ]
    },
    {
      "cell_type": "code",
      "execution_count": 51,
      "metadata": {
        "colab": {
          "base_uri": "https://localhost:8080/"
        },
        "id": "JHx69nDN7MrO",
        "outputId": "7bf2e0a7-7f36-4c73-adc0-a475b506cf1b"
      },
      "outputs": [
        {
          "name": "stdout",
          "output_type": "stream",
          "text": [
            "[[-0.46022624  0.23791553]]\n",
            "[0.58551396]\n"
          ]
        }
      ],
      "source": [
        "print(model.weights)\n",
        "print(model.biases)"
      ]
    },
    {
      "cell_type": "code",
      "execution_count": 52,
      "metadata": {
        "colab": {
          "base_uri": "https://localhost:8080/",
          "height": 279
        },
        "id": "yPScQzFI7MrO",
        "outputId": "090109d6-e19d-47b0-eae4-a33837b02265"
      },
      "outputs": [
        {
          "data": {
            "image/png": "[encoded data removed]",
            "text/plain": [
              "<Figure size 432x288 with 1 Axes>"
            ]
          },
          "metadata": {
            "needs_background": "light"
          },
          "output_type": "display_data"
        }
      ],
      "source": [
        "plt.plot(range(1,epochs_+1), loss_per_epoch)\n",
        "plt.ylabel('Loss');\n",
        "plt.xlabel('epoch');"
      ]
    },
    {
      "cell_type": "code",
      "execution_count": 54,
      "metadata": {
        "colab": {
          "base_uri": "https://localhost:8080/",
          "height": 369
        },
        "id": "_bYwA_7b7MrP",
        "outputId": "b34e9c32-8956-4c64-e1a7-7c651f119135"
      },
      "outputs": [
        {
          "data": {
            "image/png": "[encoded data removed]",
            "text/plain": [
              "<Figure size 406x360 with 1 Axes>"
            ]
          },
          "metadata": {
            "needs_background": "light"
          },
          "output_type": "display_data"
        }
      ],
      "source": [
        "sns.relplot(x=\"x\", y=\"y\", hue=\"label\", data=Data_set)\n",
        "def abline(slope, intercept):\n",
        "    axes = plt.gca()\n",
        "    x_vals = np.array(axes.get_xlim())\n",
        "    y_vals = intercept + slope * x_vals\n",
        "    plt.plot(x_vals, y_vals, '-')\n",
        "\n",
        "\n",
        "slope = (-1)*(model.weights[0][0]/model.weights[0][1])\n",
        "\n",
        "intercept = (-1)*(model.biases[0]/model.weights[0][1])\n",
        "\n",
        "abline(slope,intercept)\n"
      ]
    },
    {
      "cell_type": "code",
      "execution_count": 55,
      "metadata": {
        "colab": {
          "base_uri": "https://localhost:8080/"
        },
        "id": "RDZANNu37MrP",
        "outputId": "4e6c7e11-d2ba-4b1b-8de0-718af233793f"
      },
      "outputs": [
        {
          "data": {
            "text/plain": [
              "(array([-1,  1]), array([150,  30]))"
            ]
          },
          "execution_count": 55,
          "metadata": {},
          "output_type": "execute_result"
        }
      ],
      "source": [
        "np.unique(np.array(model.predict(Data_set)), return_counts=True)"
      ]
    },
    {
      "cell_type": "code",
      "execution_count": 56,
      "metadata": {
        "colab": {
          "base_uri": "https://localhost:8080/"
        },
        "id": "TYdnQxuj7MrP",
        "outputId": "709b59eb-1b63-4286-ed5a-66d36960e331"
      },
      "outputs": [
        {
          "name": "stdout",
          "output_type": "stream",
          "text": [
            "              precision    recall  f1-score   support\n",
            "\n",
            "          -1       1.00      1.00      1.00       150\n",
            "           1       1.00      1.00      1.00        30\n",
            "\n",
            "    accuracy                           1.00       180\n",
            "   macro avg       1.00      1.00      1.00       180\n",
            "weighted avg       1.00      1.00      1.00       180\n",
            "\n"
          ]
        }
      ],
      "source": [
        "Prediction_Result = model.predict(Data_set)\n",
        "True_Result = Data_set['label'].values\n",
        "print(classification_report(True_Result, Prediction_Result, labels=[-1,1]))"
      ]
    }
  ],
  "metadata": {
    "accelerator": "GPU",
    "colab": {
      "provenance": []
    },
    "gpuClass": "standard",
    "interpreter": {
      "hash": "c4743f3265159d618cbfb7986907cf5d87d97b4cb2417375c3879348497beb2d"
    },
    "kernelspec": {
      "display_name": "Python 3.9.5 64-bit ('base': conda)",
      "name": "python3"
    },
    "language_info": {
      "codemirror_mode": {
        "name": "ipython",
        "version": 3
      },
      "file_extension": ".py",
      "mimetype": "text/x-python",
      "name": "python",
      "nbconvert_exporter": "python",
      "pygments_lexer": "ipython3",
      "version": "3.9.5"
    }
  },
  "nbformat": 4,
  "nbformat_minor": 0
}
