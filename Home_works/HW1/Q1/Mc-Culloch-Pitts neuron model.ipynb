{
  "cells": [
    {
      "cell_type": "code",
      "execution_count": 2,
      "metadata": {
        "id": "akwBwfA0xqgc"
      },
      "outputs": [],
      "source": [
        "import numpy as np\n",
        "import pandas as pd"
      ]
    },
    {
      "cell_type": "code",
      "execution_count": 3,
      "metadata": {
        "id": "U35j6psuxqgd"
      },
      "outputs": [],
      "source": [
        "class Neural_Network_McCulloch_Pitts() :\n",
        "    \n",
        "    def __init__(self, weights, biases, in_features, out_features) :\n",
        "        np.random.seed(50)\n",
        "    \n",
        "        self.weights = weights\n",
        "        self.biases = biases\n",
        "        self.in_features = in_features\n",
        "        self.out_features = out_features\n",
        "    \n",
        "    def forward(self, x) :\n",
        "        New = np.sign(np.matmul(self.weights,x)+self.biases)\n",
        "        \n",
        "        return New\n",
        "\n",
        "    def predict(self,x) :\n",
        "        Final = []\n",
        "        for i in x :\n",
        "            arr = self.forward(i)\n",
        "            Final.append(arr[0] <= 0 and arr[1] <= 0 and arr[2] <= 0 and arr[3] >= 0)\n",
        "        \n",
        "        return Final"
      ]
    },
    {
      "cell_type": "code",
      "execution_count": 4,
      "metadata": {
        "id": "mGdzwNbxxqge"
      },
      "outputs": [],
      "source": [
        "weights = np.array([[-6,2] , [-1,1] , [3,1] , [0,2]])\n",
        "biases = [-2,-2.5,-9,2]\n",
        "in_features = 2\n",
        "out_feature = 4"
      ]
    },
    {
      "cell_type": "code",
      "execution_count": 5,
      "metadata": {
        "id": "KJ7lqnLDxqge"
      },
      "outputs": [],
      "source": [
        "model = Neural_Network_McCulloch_Pitts(weights,biases, in_features, out_feature)"
      ]
    },
    {
      "cell_type": "code",
      "execution_count": 7,
      "metadata": {
        "colab": {
          "base_uri": "https://localhost:8080/"
        },
        "id": "rkCGGkSMxqgf",
        "outputId": "9d067a92-657b-491b-d322-40855fbfefa5"
      },
      "outputs": [
        {
          "data": {
            "text/plain": [
              "[False, False]"
            ]
          },
          "execution_count": 7,
          "metadata": {},
          "output_type": "execute_result"
        }
      ],
      "source": [
        "sample_point = [[8,3] , [-1,4]]\n",
        "\n",
        "model.predict(np.array(sample_point))"
      ]
    },
    {
      "cell_type": "code",
      "execution_count": 8,
      "metadata": {
        "colab": {
          "base_uri": "https://localhost:8080/"
        },
        "id": "xlebHGM4xqgf",
        "outputId": "eafe3a01-911f-40f5-8707-c8ad3135558b"
      },
      "outputs": [
        {
          "name": "stdout",
          "output_type": "stream",
          "text": [
            "[[-6  2]\n",
            " [-1  1]\n",
            " [ 3  1]\n",
            " [ 0  2]]\n"
          ]
        }
      ],
      "source": [
        "print(weights)"
      ]
    },
    {
      "cell_type": "code",
      "execution_count": 9,
      "metadata": {
        "colab": {
          "base_uri": "https://localhost:8080/"
        },
        "id": "d6NT2mfdxqgi",
        "outputId": "87ab77e6-bf16-42b2-bd67-7f502b8040e2"
      },
      "outputs": [
        {
          "name": "stdout",
          "output_type": "stream",
          "text": [
            "[-2, -2.5, -9, 2]\n"
          ]
        }
      ],
      "source": [
        "print(biases)"
      ]
    }
  ],
  "metadata": {
    "colab": {
      "provenance": []
    },
    "interpreter": {
      "hash": "c4743f3265159d618cbfb7986907cf5d87d97b4cb2417375c3879348497beb2d"
    },
    "kernelspec": {
      "display_name": "Python 3.9.5 64-bit ('base': conda)",
      "name": "python3"
    },
    "language_info": {
      "codemirror_mode": {
        "name": "ipython",
        "version": 3
      },
      "file_extension": ".py",
      "mimetype": "text/x-python",
      "name": "python",
      "nbconvert_exporter": "python",
      "pygments_lexer": "ipython3",
      "version": "3.9.5"
    }
  },
  "nbformat": 4,
  "nbformat_minor": 0
}
