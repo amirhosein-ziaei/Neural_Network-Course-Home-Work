{
  "cells": [
    {
      "cell_type": "code",
      "execution_count": 1,
      "id": "_NuZyYcSAuly",
      "metadata": {
        "id": "_NuZyYcSAuly"
      },
      "outputs": [],
      "source": [
        "import numpy as np\n",
        "import pandas as pd"
      ]
    },
    {
      "cell_type": "code",
      "execution_count": 2,
      "id": "30810963",
      "metadata": {
        "id": "30810963"
      },
      "outputs": [],
      "source": [
        "class Perceptron_Neural_Network() :\n",
        "    \n",
        "    def __init__(self, weights,bias, input_features, output_features, seed = 50) :\n",
        "        np.random.seed(seed)\n",
        "\n",
        "        self.input_features = input_features\n",
        "        self.output_features = output_features\n",
        "        self.weights = weights\n",
        "        self.bias = bias\n",
        "        \n",
        "        self.Learning_Rate = 0.05\n",
        "    \n",
        "    def Positive_Function(self,num, theta = 0) :\n",
        "        if num >= theta :\n",
        "            return 1\n",
        "        else :\n",
        "            return -1\n",
        "    \n",
        "    def backward(self,target, x) :\n",
        "        coefficient = self.Learning_Rate * target\n",
        "        self.weights = np.round(self.weights + coefficient*x,decimals = 2)\n",
        "        self.bias = round(self.bias + coefficient,2)\n",
        "\n",
        "    def train(self,target,x, epochs) :\n",
        "        for epoch in range(0,epochs):\n",
        "\n",
        "            self.backward(target,x)\n",
        "            print(\"Epoch:\",epoch+1)\n",
        "            print(f'w1 : {self.weights[0]}, w2 : {self.weights[1]} , w3 : {self.weights[2]} , b : {self.bias}')"
      ]
    },
    {
      "cell_type": "code",
      "execution_count": 4,
      "id": "222355fc",
      "metadata": {
        "id": "222355fc"
      },
      "outputs": [],
      "source": [
        "in_features = 3\n",
        "out_features = 1\n",
        "weights = np.array([0.1,0.6,0.3]).reshape(-1,1)\n",
        "bias = -0.5\n",
        "model = Perceptron_Neural_Network(weights, bias, in_features, out_features)"
      ]
    },
    {
      "cell_type": "code",
      "execution_count": 6,
      "id": "fa5be8a7",
      "metadata": {
        "colab": {
          "base_uri": "https://localhost:8080/"
        },
        "id": "fa5be8a7",
        "outputId": "650cd32b-462e-41b3-a53d-93b8aa0ca22e"
      },
      "outputs": [
        {
          "name": "stdout",
          "output_type": "stream",
          "text": [
            "Epoch: 1\n",
            "w1 : [0.1], w2 : [0.45] , w3 : [0.15] , b : -0.55\n",
            "Epoch: 2\n",
            "w1 : [0.1], w2 : [0.3] , w3 : [-0.] , b : -0.6\n",
            "Epoch: 3\n",
            "w1 : [0.1], w2 : [0.15] , w3 : [-0.15] , b : -0.65\n",
            "Epoch: 4\n",
            "w1 : [0.1], w2 : [-0.] , w3 : [-0.3] , b : -0.7\n",
            "Epoch: 5\n",
            "w1 : [0.1], w2 : [-0.15] , w3 : [-0.45] , b : -0.75\n"
          ]
        }
      ],
      "source": [
        "epochs = 10\n",
        "\n",
        "model.train(-1,np.array([0,3,3]).reshape(-1,1),epochs)"
      ]
    }
  ],
  "metadata": {
    "colab": {
      "provenance": []
    },
    "kernelspec": {
      "display_name": "Python 3 (ipykernel)",
      "language": "python",
      "name": "python3"
    },
    "language_info": {
      "codemirror_mode": {
        "name": "ipython",
        "version": 3
      },
      "file_extension": ".py",
      "mimetype": "text/x-python",
      "name": "python",
      "nbconvert_exporter": "python",
      "pygments_lexer": "ipython3",
      "version": "3.9.5"
    }
  },
  "nbformat": 4,
  "nbformat_minor": 5
}
