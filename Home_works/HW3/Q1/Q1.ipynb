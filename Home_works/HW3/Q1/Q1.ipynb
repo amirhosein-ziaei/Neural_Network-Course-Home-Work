{
  "cells": [
    {
      "cell_type": "code",
      "execution_count": 1,
      "metadata": {
        "id": "eyqRO8SZ74f0"
      },
      "outputs": [],
      "source": [
        "import numpy as np\n",
        "from PIL import Image\n",
        "import os\n",
        "import matplotlib.pyplot as plt"
      ]
    },
    {
      "cell_type": "code",
      "execution_count": 7,
      "metadata": {
        "id": "4Vpf__IJ74f2"
      },
      "outputs": [],
      "source": [
        "threshold = 180\n",
        "\n",
        "\n",
        "\n",
        "train_picture =  '/content/pacman_Train.jpg'\n",
        "test_picture  = '/content/pacman_Test.jpg'\n",
        "\n",
        "def binarize_image(image_path):\n",
        "    \n",
        "    train_image = Image.open(image_path).convert(mode=\"L\")\n",
        "    train_image = train_image.resize(size=(100,100))\n",
        "    \n",
        "    train_image_arr = np.asarray(train_image,dtype=np.uint8)\n",
        "    x = np.zeros(train_image_arr.shape,dtype=np.float)\n",
        "    x[train_image_arr > threshold] = 1\n",
        "    x[x==0] = -1\n",
        "    \n",
        "    return x"
      ]
    },
    {
      "cell_type": "code",
      "execution_count": 8,
      "metadata": {
        "colab": {
          "base_uri": "https://localhost:8080/"
        },
        "id": "OmvWSZaW74f3",
        "outputId": "47c23c80-4b0a-4871-c6bb-2418da04f405"
      },
      "outputs": [
        {
          "output_type": "stream",
          "name": "stderr",
          "text": [
            "/usr/local/lib/python3.7/dist-packages/ipykernel_launcher.py:14: DeprecationWarning: `np.float` is a deprecated alias for the builtin `float`. To silence this warning, use `float` by itself. Doing this will not modify any behavior and is safe. If you specifically wanted the numpy scalar type, use `np.float64` here.\n",
            "Deprecated in NumPy 1.20; for more details and guidance: https://numpy.org/devdocs/release/1.20.0-notes.html#deprecations\n",
            "  \n"
          ]
        }
      ],
      "source": [
        "train = binarize_imgage(train_picture)\n",
        "test = binarize_imgage(test_picture)"
      ]
    },
    {
      "cell_type": "code",
      "execution_count": 9,
      "metadata": {
        "colab": {
          "base_uri": "https://localhost:8080/",
          "height": 554
        },
        "id": "NvjE9US574f3",
        "outputId": "7a2a208b-3467-4d33-e7c6-cc0977fa446d"
      },
      "outputs": [
        {
          "output_type": "stream",
          "name": "stderr",
          "text": [
            "WARNING:matplotlib.image:Clipping input data to the valid range for imshow with RGB data ([0..1] for floats or [0..255] for integers).\n"
          ]
        },
        {
          "output_type": "display_data",
          "data": {
            "text/plain": [
              "<Figure size 432x288 with 1 Axes>"
            ],
            "image/png": "[encoded data removed]"
          },
          "metadata": {
            "needs_background": "light"
          }
        },
        {
          "output_type": "stream",
          "name": "stderr",
          "text": [
            "WARNING:matplotlib.image:Clipping input data to the valid range for imshow with RGB data ([0..1] for floats or [0..255] for integers).\n"
          ]
        },
        {
          "output_type": "display_data",
          "data": {
            "text/plain": [
              "<Figure size 432x288 with 1 Axes>"
            ],
            "image/png": "[encoded data removed]"
          },
          "metadata": {
            "needs_background": "light"
          }
        }
      ],
      "source": [
        "plt.imshow(np.repeat(train[:,:,np.newaxis], repeats=3, axis=2))\n",
        "plt.show()\n",
        "plt.imshow(np.repeat(test[:,:,np.newaxis], repeats=3, axis=2))\n",
        "plt.show()"
      ]
    },
    {
      "cell_type": "code",
      "execution_count": 14,
      "metadata": {
        "id": "xNRv7cyM74f4"
      },
      "outputs": [],
      "source": [
        "class Neural_Network(object):\n",
        "\n",
        "    def __init__(self):\n",
        "        self.weight = None\n",
        "\n",
        "    def train(self, data,):\n",
        "        matrix = np.vstack(data)\n",
        "        param = len(data) * np.identity(np.size(matrix, 1))\n",
        "        self.weight = np.dot(matrix.T, matrix) - param\n",
        "\n",
        "    def prediction(self, data, theta=0.5, iterations=1000):        \n",
        "        inx = np.random.randint(0, len(self.weight) - 1, (iterations, len(data)))\n",
        "        for ind in inx:\n",
        "            tmp = np.diagonal(np.dot(self.weight[ind], data.T))\n",
        "            tmp = np.expand_dims(tmp, -1)\n",
        "            val = np.apply_along_axis(lambda x: 1 if x > theta else -1, 1, tmp)\n",
        "\n",
        "            for i in range(len(data)):\n",
        "                data[i, ind[i]] = val[i]\n",
        "\n",
        "        return data"
      ]
    },
    {
      "cell_type": "code",
      "execution_count": 15,
      "metadata": {
        "id": "g7gSqep874f5"
      },
      "outputs": [],
      "source": [
        "size = (100, 100)\n",
        "model = Neural_Network()"
      ]
    },
    {
      "cell_type": "code",
      "execution_count": 16,
      "metadata": {
        "id": "_ZurOjhx74f6"
      },
      "outputs": [],
      "source": [
        "model.train([train.flatten()])"
      ]
    },
    {
      "cell_type": "code",
      "execution_count": 18,
      "metadata": {
        "id": "cPUPNpID74f7"
      },
      "outputs": [],
      "source": [
        "tr = model.prediction(np.array([test.flatten()], copy=False),iterations=1000)"
      ]
    },
    {
      "cell_type": "code",
      "execution_count": 19,
      "metadata": {
        "id": "VY8dJpCH74f8"
      },
      "outputs": [],
      "source": [
        "tr = tr[0].reshape(size)"
      ]
    },
    {
      "cell_type": "code",
      "execution_count": 20,
      "metadata": {
        "colab": {
          "base_uri": "https://localhost:8080/",
          "height": 230
        },
        "id": "taRt6W3874f8",
        "outputId": "e3662244-a3e2-41dd-fc81-5b7de9310f14"
      },
      "outputs": [
        {
          "output_type": "stream",
          "name": "stderr",
          "text": [
            "WARNING:matplotlib.image:Clipping input data to the valid range for imshow with RGB data ([0..1] for floats or [0..255] for integers).\n",
            "WARNING:matplotlib.image:Clipping input data to the valid range for imshow with RGB data ([0..1] for floats or [0..255] for integers).\n"
          ]
        },
        {
          "output_type": "display_data",
          "data": {
            "text/plain": [
              "<Figure size 576x576 with 2 Axes>"
            ],
            "image/png": "[encoded data removed]"
          },
          "metadata": {
            "needs_background": "light"
          }
        }
      ],
      "source": [
        "picture = plt.figure(figsize=(8, 8))\n",
        "picture.add_subplot(1, 3, 1)\n",
        "plt.imshow(np.repeat(test[:,:,np.newaxis], repeats=3, axis=2),cmap='Greys')\n",
        "plt.title('Original')\n",
        "picture.add_subplot(1, 3, 2)\n",
        "plt.imshow(np.repeat(tr[:,:,np.newaxis], repeats=3, axis=2),cmap='Greys')\n",
        "plt.title('After 1000 iterations')\n",
        "plt.show()"
      ]
    },
    {
      "cell_type": "code",
      "execution_count": 21,
      "metadata": {
        "id": "NxS7S88z74f8"
      },
      "outputs": [],
      "source": [
        "tr = model.prediction(np.array([test.flatten()], copy=False),iterations=30000)"
      ]
    },
    {
      "cell_type": "code",
      "execution_count": 22,
      "metadata": {
        "id": "4l7UE51a74f9"
      },
      "outputs": [],
      "source": [
        "tr = tr[0].reshape(size)\n"
      ]
    },
    {
      "cell_type": "code",
      "execution_count": 23,
      "metadata": {
        "colab": {
          "base_uri": "https://localhost:8080/",
          "height": 230
        },
        "id": "ZDoeDleb74f9",
        "outputId": "31bfda68-df8f-48ad-8129-36134c2c22ab"
      },
      "outputs": [
        {
          "output_type": "stream",
          "name": "stderr",
          "text": [
            "WARNING:matplotlib.image:Clipping input data to the valid range for imshow with RGB data ([0..1] for floats or [0..255] for integers).\n",
            "WARNING:matplotlib.image:Clipping input data to the valid range for imshow with RGB data ([0..1] for floats or [0..255] for integers).\n"
          ]
        },
        {
          "output_type": "display_data",
          "data": {
            "text/plain": [
              "<Figure size 576x576 with 2 Axes>"
            ],
            "image/png": "[encoded data removed]"
          },
          "metadata": {
            "needs_background": "light"
          }
        }
      ],
      "source": [
        "picture = plt.figure(figsize=(8, 8))\n",
        "picture.add_subplot(1, 3, 1)\n",
        "plt.imshow(np.repeat(test[:,:,np.newaxis], repeats=3, axis=2),cmap='Greys')\n",
        "plt.title('Original')\n",
        "picture.add_subplot(1, 3, 2)\n",
        "plt.imshow(np.repeat(tr[:,:,np.newaxis], repeats=3, axis=2),cmap='Greys')\n",
        "plt.title('After 30000 iterations')\n",
        "plt.show()\n"
      ]
    },
    {
      "cell_type": "code",
      "execution_count": 26,
      "metadata": {
        "colab": {
          "base_uri": "https://localhost:8080/"
        },
        "id": "bvw5-ZVF74f9",
        "outputId": "ed793644-3d1c-44ac-e62c-543681550aec"
      },
      "outputs": [
        {
          "output_type": "stream",
          "name": "stderr",
          "text": [
            "/usr/local/lib/python3.7/dist-packages/ipykernel_launcher.py:14: DeprecationWarning: `np.float` is a deprecated alias for the builtin `float`. To silence this warning, use `float` by itself. Doing this will not modify any behavior and is safe. If you specifically wanted the numpy scalar type, use `np.float64` here.\n",
            "Deprecated in NumPy 1.20; for more details and guidance: https://numpy.org/devdocs/release/1.20.0-notes.html#deprecations\n",
            "  \n"
          ]
        }
      ],
      "source": [
        "test_2 = binarize_image('/content/ghost.jpg')"
      ]
    },
    {
      "cell_type": "code",
      "execution_count": 27,
      "metadata": {
        "id": "9W_Zm-NG74f-"
      },
      "outputs": [],
      "source": [
        "tr = model.prediction(np.array([test_2.flatten()], copy=False),iterations=1000)\n"
      ]
    },
    {
      "cell_type": "code",
      "execution_count": 28,
      "metadata": {
        "id": "SKdiv-k374f-"
      },
      "outputs": [],
      "source": [
        "tr = tr[0].reshape(size)"
      ]
    },
    {
      "cell_type": "code",
      "execution_count": 29,
      "metadata": {
        "colab": {
          "base_uri": "https://localhost:8080/",
          "height": 230
        },
        "id": "8yUVNyH174f-",
        "outputId": "79c0bbe3-0343-424f-de97-02adf6b8e4a6"
      },
      "outputs": [
        {
          "output_type": "stream",
          "name": "stderr",
          "text": [
            "WARNING:matplotlib.image:Clipping input data to the valid range for imshow with RGB data ([0..1] for floats or [0..255] for integers).\n",
            "WARNING:matplotlib.image:Clipping input data to the valid range for imshow with RGB data ([0..1] for floats or [0..255] for integers).\n"
          ]
        },
        {
          "output_type": "display_data",
          "data": {
            "text/plain": [
              "<Figure size 576x576 with 2 Axes>"
            ],
            "image/png": "[encoded data removed]"
          },
          "metadata": {
            "needs_background": "light"
          }
        }
      ],
      "source": [
        "picture = plt.figure(figsize=(8, 8))\n",
        "picture.add_subplot(1, 3, 1)\n",
        "plt.imshow(np.repeat(test_2[:,:,np.newaxis], repeats=3, axis=2),cmap='Greys')\n",
        "plt.title('Original')\n",
        "picture.add_subplot(1, 3, 2)\n",
        "plt.imshow(np.repeat(tr[:,:,np.newaxis], repeats=3, axis=2),cmap='Greys')\n",
        "plt.title('After 1000 iterations')\n",
        "plt.show()"
      ]
    },
    {
      "cell_type": "code",
      "execution_count": 30,
      "metadata": {
        "id": "lTITPA6N74f-"
      },
      "outputs": [],
      "source": [
        "tr = model.prediction(np.array([test_2.flatten()], copy=False),iterations=50000)"
      ]
    },
    {
      "cell_type": "code",
      "execution_count": 31,
      "metadata": {
        "id": "3bYCEP0s74f-"
      },
      "outputs": [],
      "source": [
        "tr = tr[0].reshape(size)"
      ]
    },
    {
      "cell_type": "code",
      "execution_count": 32,
      "metadata": {
        "colab": {
          "base_uri": "https://localhost:8080/",
          "height": 212
        },
        "id": "06jL8pLY74f_",
        "outputId": "3a097be6-b348-44ab-bd84-73780873c020"
      },
      "outputs": [
        {
          "output_type": "stream",
          "name": "stderr",
          "text": [
            "WARNING:matplotlib.image:Clipping input data to the valid range for imshow with RGB data ([0..1] for floats or [0..255] for integers).\n"
          ]
        },
        {
          "output_type": "display_data",
          "data": {
            "text/plain": [
              "<Figure size 576x576 with 2 Axes>"
            ],
            "image/png": "[encoded data removed]"
          },
          "metadata": {
            "needs_background": "light"
          }
        }
      ],
      "source": [
        "picture = plt.figure(figsize=(8, 8))\n",
        "picture.add_subplot(1, 3, 1)\n",
        "plt.imshow(np.repeat(test_2[:,:,np.newaxis], repeats=3, axis=2),cmap='Greys')\n",
        "plt.title('Original')\n",
        "picture.add_subplot(1, 3, 2)\n",
        "plt.imshow(tr,cmap='Greys')\n",
        "plt.title('After 50000 iterations')\n",
        "plt.show()\n"
      ]
    }
  ],
  "metadata": {
    "interpreter": {
      "hash": "c4743f3265159d618cbfb7986907cf5d87d97b4cb2417375c3879348497beb2d"
    },
    "kernelspec": {
      "display_name": "Python 3 (ipykernel)",
      "language": "python",
      "name": "python3"
    },
    "language_info": {
      "codemirror_mode": {
        "name": "ipython",
        "version": 3
      },
      "file_extension": ".py",
      "mimetype": "text/x-python",
      "name": "python",
      "nbconvert_exporter": "python",
      "pygments_lexer": "ipython3",
      "version": "3.9.5"
    },
    "colab": {
      "provenance": []
    }
  },
  "nbformat": 4,
  "nbformat_minor": 0
}