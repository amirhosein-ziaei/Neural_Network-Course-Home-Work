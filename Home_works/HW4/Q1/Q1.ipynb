{
  "cells": [
    {
      "cell_type": "code",
      "execution_count": 2,
      "metadata": {
        "id": "ZAFSQXx81ZRv"
      },
      "outputs": [],
      "source": [
        "%matplotlib inline\n",
        "import numpy as np\n",
        "import matplotlib.pyplot as plt\n",
        "from sklearn.preprocessing import MinMaxScaler\n",
        "import sys"
      ]
    },
    {
      "cell_type": "code",
      "execution_count": 3,
      "metadata": {
        "colab": {
          "base_uri": "https://localhost:8080/"
        },
        "id": "LzvsuWv14e-Z",
        "outputId": "7564b5fc-2f3d-47fe-d896-98ce1eef2896"
      },
      "outputs": [
        {
          "output_type": "stream",
          "name": "stdout",
          "text": [
            "Input data: [0.24 0.3  0.45 0.57 0.8  0.69 0.42 0.26 0.14]\n"
          ]
        }
      ],
      "source": [
        "data = np.array([0.24,0.3,0.45,0.57,0.8,0.69,0.42,0.26,0.14])\n",
        "first_data = np.copy(data)\n",
        "print(\"Input data:\", data)"
      ]
    },
    {
      "cell_type": "code",
      "execution_count": 4,
      "metadata": {
        "id": "UOSYOjlSgQ40"
      },
      "outputs": [],
      "source": [
        "def positive(x):\n",
        "\tif x<0:\n",
        "\t\treturn 0\n",
        "\telif x > 2:\n",
        "\t\treturn 2\n",
        "\telse:\n",
        "\t\treturn x"
      ]
    },
    {
      "cell_type": "code",
      "execution_count": 5,
      "metadata": {
        "id": "IDS6ktBXlOh9"
      },
      "outputs": [],
      "source": [
        "te_max = 8\n",
        "xe_max = 2\n",
        "a_1 = 1\n",
        "a_2 = 4\n",
        "b_1 = 0.6\n",
        "b_2 = -0.4\n",
        "n = data.shape[0]\n",
        "\n",
        "np.set_printoptions(threshold=sys.maxsize)"
      ]
    },
    {
      "cell_type": "code",
      "execution_count": 9,
      "metadata": {
        "id": "L0vbis-10JGE"
      },
      "outputs": [],
      "source": [
        "last_data = np.zeros((te_max, n))\n",
        "\n",
        "old_data = np.copy(data)\n",
        "\n",
        "last_data[0] = data[:]\n",
        "\n",
        "for t in range(1, te_max):    \n",
        "    for i in range(n):\n",
        "        \n",
        "        start_b_1 = i - a_1\n",
        "        if (start_b_1 < 0):\n",
        "            start_b_1 = 0\n",
        "        \n",
        "        end_b_1 = i + a_1\n",
        "        if (end_b_1 > n - 1):\n",
        "            end_b_1 = n - 1\n",
        "            \n",
        "        start_b_2 = i - a_2\n",
        "        if (start_b_2 < 0):\n",
        "            start_b_2 = 0\n",
        "        \n",
        "        end_b_2 = i + a_2\n",
        "        if (end_b_2 > n - 1):\n",
        "            end_b_2 = n - 1\n",
        "\n",
        "        weight = np.zeros(n)\n",
        "        for j in range(start_b_2, end_b_2 + 1):\n",
        "            weight[j] = b_2\n",
        "        for j in range(start_b_1, end_b_1 + 1):\n",
        "            weight[j] = b_1\n",
        "\n",
        "        data[i] = np.dot(weight, old_data)\n",
        "        \n",
        "    x = np.minimum(xe_max, np.maximum(0, data))\n",
        "\n",
        "    last_data[t] = x[:]\n",
        "    \n",
        "    old_data = np.copy(x)"
      ]
    },
    {
      "cell_type": "code",
      "execution_count": 10,
      "metadata": {
        "colab": {
          "base_uri": "https://localhost:8080/"
        },
        "id": "-kZvaXeq5XO2",
        "outputId": "455b3d84-aa0a-4dbf-cd6e-ba046d9f5c17"
      },
      "outputs": [
        {
          "output_type": "execute_result",
          "data": {
            "text/plain": [
              "0.8"
            ]
          },
          "metadata": {},
          "execution_count": 10
        }
      ],
      "source": [
        "max_arg = old_data.argmax()\n",
        "maximum = first_data[max_arg]\n",
        "maximum"
      ]
    },
    {
      "cell_type": "code",
      "execution_count": null,
      "metadata": {
        "id": "o_KT21Sk0TtZ"
      },
      "outputs": [],
      "source": [
        "plt.figure(1, figsize=(8, 8), dpi=100)\n",
        "plt.style.use(['default'])\n",
        "\n",
        "for t in range(te_max):\n",
        "    print(\"\\r\\n\\r\\nt:\", t)\n",
        "    print(\"x:\", np.around(last_data[t], 2))\n",
        "    plt.plot(range(n), last_data[t], linewidth=1.5, label='t = '+str(t))\n",
        "\n",
        "plt.xticks(np.arange(n))\n",
        "plt.xlabel('Index')\n",
        "plt.ylabel('Output')\n",
        "plt.title('Mexican Hat with R1 = 1 and R2 = 4')\n",
        "plt.legend(loc='best', fontsize=9)\n",
        "plt.grid(True)\n",
        "plt.show()"
      ]
    },
    {
      "cell_type": "code",
      "execution_count": 12,
      "metadata": {
        "id": "y-JgnOQg-FYu"
      },
      "outputs": [],
      "source": [
        "data = np.array([0.24,0.3,0.45,0.57,0.8,0.69,0.42,0.26,0.14])\n",
        "first_data = np.copy(x)"
      ]
    },
    {
      "cell_type": "code",
      "execution_count": 13,
      "metadata": {
        "id": "4vRKVp5O95_n"
      },
      "outputs": [],
      "source": [
        "te_max = 5\n",
        "xe_max = 2\n",
        "a_1 = 0\n",
        "a_2 = 100\n",
        "b_1 = 0.6\n",
        "b_2 = -0.1\n",
        "n = x.shape[0]\n",
        "np.set_printoptions(threshold=sys.maxsize)"
      ]
    },
    {
      "cell_type": "code",
      "execution_count": 15,
      "metadata": {
        "id": "mE14LsTF95_n"
      },
      "outputs": [],
      "source": [
        "last_data = np.zeros((te_max, n))\n",
        "\n",
        "old_data = np.copy(data)\n",
        "\n",
        "last_data[0] = x[:]\n",
        "\n",
        "for t in range(1, te_max):    \n",
        "    for i in range(n):\n",
        "        \n",
        "        # Calculate neighborhood borders\n",
        "        start_b_1 = i - a_1\n",
        "        if (start_b_1 < 0):\n",
        "            start_b_1 = 0\n",
        "        \n",
        "        end_b_1 = i + a_1\n",
        "        if (end_b_1 > n - 1):\n",
        "            end_b_1 = n - 1\n",
        "            \n",
        "        start_b_2 = i - a_2\n",
        "        if (start_b_2 < 0):\n",
        "            start_b_2 = 0\n",
        "        \n",
        "        end_b_2 = i + a_2\n",
        "        if (end_b_2 > n - 1):\n",
        "            end_b_2 = n - 1\n",
        "\n",
        "        # Create current weight matrix\n",
        "        weight = np.zeros(n)\n",
        "        for j in range(start_b_2, end_b_2 + 1):\n",
        "            weight[j] = b_2\n",
        "        for j in range(start_b_1, end_b_1 + 1):\n",
        "            weight[j] = b_1\n",
        "\n",
        "        x[i] = np.dot(weight, old_data)\n",
        "        \n",
        "    # Apply activation function\n",
        "    x = np.minimum(xe_max, np.maximum(0, x))\n",
        "\n",
        "    last_data[t] = x[:]\n",
        "    \n",
        "    old_data = np.copy(x)"
      ]
    },
    {
      "cell_type": "code",
      "execution_count": 16,
      "metadata": {
        "colab": {
          "base_uri": "https://localhost:8080/"
        },
        "id": "8QdEWc9X95_o",
        "outputId": "ce9ac14d-7f0e-4aea-eb68-6ff18feca630"
      },
      "outputs": [
        {
          "output_type": "execute_result",
          "data": {
            "text/plain": [
              "2.0"
            ]
          },
          "metadata": {},
          "execution_count": 16
        }
      ],
      "source": [
        "max_arg = old_data.argmax()\n",
        "maximum = first_data[max_arg]\n",
        "maximum"
      ]
    },
    {
      "cell_type": "code",
      "execution_count": null,
      "metadata": {
        "id": "DsUbbK6Z95_o"
      },
      "outputs": [],
      "source": [
        "plt.figure(1, figsize=(8, 8), dpi=100)\n",
        "plt.style.use(['default'])\n",
        "\n",
        "for t in range(te_max):\n",
        "    print(\"\\r\\n\\r\\nt:\", t)\n",
        "    print(\"x:\", np.around(last_data[t], 2))\n",
        "    plt.plot(range(n), last_data[t], linewidth=1.5, label='t = '+str(t))\n",
        "\n",
        "plt.xticks(np.arange(n))\n",
        "plt.xlabel('Index')\n",
        "plt.ylabel('Output')\n",
        "plt.title('Mexican Hat with R1 = 1 and R2 = 4')\n",
        "plt.legend(loc='best', fontsize=9)\n",
        "plt.grid(True)\n",
        "plt.show()"
      ]
    },
    {
      "cell_type": "code",
      "execution_count": 19,
      "metadata": {
        "id": "3NuOGBsERb8T"
      },
      "outputs": [],
      "source": [
        "def agreement(tmp1, tmp2):\n",
        "    assert len(tmp1)==len(tmp2), \"Lists must have the same shape\"\n",
        "    agree_tmp = 0  \n",
        "    for idx, value in enumerate(tmp1):\n",
        "        if tmp2[idx] == value:\n",
        "            agree_tmp += 1\n",
        "\n",
        "    agree_percent = agree_tmp/len(tmp1)\n",
        "\n",
        "    return agree_percent"
      ]
    },
    {
      "cell_type": "code",
      "execution_count": 20,
      "metadata": {
        "id": "OInf1qAPS8U-"
      },
      "outputs": [],
      "source": [
        "def max_result(x):\n",
        "    first_data = np.copy(x)\n",
        "\n",
        "    te_max = 5\n",
        "    xe_max = 2\n",
        "    a_1 = 0\n",
        "    a_2 = 100\n",
        "    b_1 = 0.6\n",
        "    b_2 = -0.1\n",
        "\n",
        "    n = x.shape[0]\n",
        "\n",
        "    np.set_printoptions(threshold=sys.maxsize)\n",
        "\n",
        "    last_data = np.zeros((te_max, n))\n",
        "\n",
        "    old_data = np.copy(x)\n",
        "\n",
        "    last_data[0] = x[:]\n",
        "\n",
        "    for t in range(1, te_max):    \n",
        "        for i in range(n):\n",
        "            \n",
        "            start_b_1 = i - a_1\n",
        "            if (start_b_1 < 0):\n",
        "                start_b_1 = 0\n",
        "            \n",
        "            end_b_1 = i + a_1\n",
        "            if (end_b_1 > n - 1):\n",
        "                end_b_1 = n - 1\n",
        "                \n",
        "            start_b_2 = i - a_2\n",
        "            if (start_b_2 < 0):\n",
        "                start_b_2 = 0\n",
        "            \n",
        "            end_b_2 = i + a_2\n",
        "            if (end_b_2 > n - 1):\n",
        "                end_b_2 = n - 1\n",
        "\n",
        "            weight = np.zeros(n)\n",
        "            for j in range(start_b_2, end_b_2 + 1):\n",
        "                weight[j] = b_2\n",
        "            for j in range(start_b_2, end_b_1 + 1):\n",
        "                weight[j] = b_1\n",
        "\n",
        "            x[i] = np.dot(weight, old_data)\n",
        "            \n",
        "        x = np.minimum(xe_max, np.maximum(0, x))\n",
        "\n",
        "        last_data[t] = x[:]\n",
        "        \n",
        "        old_data = np.copy(x)\n",
        "    \n",
        "    return old_data.argmax()"
      ]
    },
    {
      "cell_type": "code",
      "execution_count": 31,
      "metadata": {
        "id": "3sVrxGWY-IKx"
      },
      "outputs": [],
      "source": [
        "class hamming_net:\n",
        "    def __init__(self,sample):\n",
        "      self.sample = sample\n",
        "      self.m = len(sample)\n",
        "      self.n = len(sample[0])\n",
        "\n",
        "      self.init_weights_bias()\n",
        "    \n",
        "    def init_weights_bias(self):\n",
        "      self.bias = self.n/2\n",
        "      self.weights = np.array(sample) / 2\n",
        "    \n",
        "    def find_closest(self,x):\n",
        "      input_y = []\n",
        "      for col in range(self.m):\n",
        "        input_y.append(self.bias + np.dot(x,self.weights[col]))\n",
        "\n",
        "      closest_vector = max_result( np.array(input_y) )\n",
        "      # print()\n",
        "      print('Input Vector: ',x ,'   Closest Vector: ',f'e{closest_vector+1}=',\n",
        "            self.sample[closest_vector], '    Agreement Percentage: ',\n",
        "            str(agreement(x,self.sample[closest_vector]))  + '%' )\n",
        "\n",
        "    \n",
        "    \n",
        "    "
      ]
    },
    {
      "cell_type": "code",
      "execution_count": 32,
      "metadata": {
        "id": "PyYXvr8lJ5WW"
      },
      "outputs": [],
      "source": [
        "sample = [[1,-1,1,-1,-1,-1] , [-1,1,-1,1,1,-1] , [-1,-1,1,1,-1,1] , [1,1,-1,1,1,-1]]"
      ]
    },
    {
      "cell_type": "code",
      "execution_count": 33,
      "metadata": {
        "id": "zP5GhwE_Kifm"
      },
      "outputs": [],
      "source": [
        "hammingnet = hamming_net(sample)"
      ]
    },
    {
      "cell_type": "code",
      "execution_count": 34,
      "metadata": {
        "id": "aK55CAXmKeUO"
      },
      "outputs": [],
      "source": [
        "vector_1 = [-1,-1,1,-1,1,-1]\n",
        "vector_2 = [1,1,1,1,-1,-1]\n",
        "vector_3 = [-1,-1,-1,1,1,-1]\n",
        "vector_4 = [1,-1,1,1,-1,1]\n",
        "vector_5 = [1,1,1,-1,-1,-1]\n",
        "vector_6 = [1,-1,-1,1,1,1]\n",
        "vector_7 = [-1,1,-1,-1,-1,1]"
      ]
    },
    {
      "cell_type": "code",
      "execution_count": 35,
      "metadata": {
        "colab": {
          "base_uri": "https://localhost:8080/"
        },
        "id": "U57TVgKZOj4I",
        "outputId": "0d87cc6e-c841-4ad8-caaf-7d911966c59f"
      },
      "outputs": [
        {
          "output_type": "stream",
          "name": "stdout",
          "text": [
            "Input Vector:  [-1, -1, 1, -1, 1, -1]    Closest Vector:  e4= [1, 1, -1, 1, 1, -1]     Agreement Percentage:  0.3333333333333333%\n",
            "Input Vector:  [1, 1, 1, 1, -1, -1]    Closest Vector:  e4= [1, 1, -1, 1, 1, -1]     Agreement Percentage:  0.6666666666666666%\n",
            "Input Vector:  [-1, -1, -1, 1, 1, -1]    Closest Vector:  e4= [1, 1, -1, 1, 1, -1]     Agreement Percentage:  0.6666666666666666%\n",
            "Input Vector:  [1, -1, 1, 1, -1, 1]    Closest Vector:  e4= [1, 1, -1, 1, 1, -1]     Agreement Percentage:  0.3333333333333333%\n",
            "Input Vector:  [1, 1, 1, -1, -1, -1]    Closest Vector:  e4= [1, 1, -1, 1, 1, -1]     Agreement Percentage:  0.5%\n",
            "Input Vector:  [1, -1, -1, 1, 1, 1]    Closest Vector:  e4= [1, 1, -1, 1, 1, -1]     Agreement Percentage:  0.6666666666666666%\n",
            "Input Vector:  [-1, 1, -1, -1, -1, 1]    Closest Vector:  e4= [1, 1, -1, 1, 1, -1]     Agreement Percentage:  0.3333333333333333%\n"
          ]
        }
      ],
      "source": [
        "hammingnet.find_closest(vector_1)\n",
        "hammingnet.find_closest(vector_2)\n",
        "hammingnet.find_closest(vector_3)\n",
        "hammingnet.find_closest(vector_4)\n",
        "hammingnet.find_closest(vector_5)\n",
        "hammingnet.find_closest(vector_6)\n",
        "hammingnet.find_closest(vector_7)"
      ]
    }
  ],
  "metadata": {
    "colab": {
      "provenance": []
    },
    "kernelspec": {
      "display_name": "Python 3 (ipykernel)",
      "language": "python",
      "name": "python3"
    },
    "language_info": {
      "codemirror_mode": {
        "name": "ipython",
        "version": 3
      },
      "file_extension": ".py",
      "mimetype": "text/x-python",
      "name": "python",
      "nbconvert_exporter": "python",
      "pygments_lexer": "ipython3",
      "version": "3.9.5"
    },
    "accelerator": "GPU",
    "gpuClass": "standard"
  },
  "nbformat": 4,
  "nbformat_minor": 0
}