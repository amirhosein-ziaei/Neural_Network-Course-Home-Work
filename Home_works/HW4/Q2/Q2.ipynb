{
  "cells": [
    {
      "cell_type": "code",
      "execution_count": 10,
      "metadata": {
        "id": "lazkjCzv5wQ-"
      },
      "outputs": [],
      "source": [
        "%matplotlib inline\n",
        "import numpy as np\n",
        "import matplotlib.pyplot as plt\n",
        "from sklearn.preprocessing import MinMaxScaler\n",
        "import sys\n",
        "import os\n",
        "import time\n",
        "import torch\n",
        "import argparse\n",
        "import matplotlib.pyplot as plt\n",
        "import torchvision.datasets as datasets\n",
        "import torchvision.transforms as transforms\n",
        "from torch.utils.data.dataloader import DataLoader\n",
        "import seaborn as sns"
      ]
    },
    {
      "cell_type": "code",
      "execution_count": null,
      "metadata": {
        "id": "-vFHm2y85wRH"
      },
      "outputs": [],
      "source": [
        "data_set = datasets.FashionMNIST('data/', train=True, download=True).data.numpy().astype(float)\n",
        "data_test = data_set[1000:1300]"
      ]
    },
    {
      "cell_type": "code",
      "execution_count": 3,
      "metadata": {
        "id": "S9d1Zd0Hl4Zk"
      },
      "outputs": [],
      "source": [
        "weight_0 = np.random.rand(28*28*(15*15)).reshape(28*28, 15*15)"
      ]
    },
    {
      "cell_type": "code",
      "execution_count": 4,
      "metadata": {
        "id": "FU-0qMjdXzjy"
      },
      "outputs": [],
      "source": [
        "data_set = data_set[:1000]"
      ]
    },
    {
      "cell_type": "code",
      "execution_count": 5,
      "metadata": {
        "id": "ePlt6tuFZRMv"
      },
      "outputs": [],
      "source": [
        "data_set = data_set.reshape(1000,28*28)\n",
        "data_test = data_test.reshape(300,28*28)"
      ]
    },
    {
      "cell_type": "code",
      "execution_count": 6,
      "metadata": {
        "id": "Qh1XPRAD5wRL"
      },
      "outputs": [],
      "source": [
        "a_1 = 225\n",
        "a_2 = data_set.shape[1]\n",
        "a_3 = data_set.shape[0]\n",
        "learning_rate = 0.3\n",
        "a_4 = 1\n",
        "epochs_all = 100\n",
        "weight_max = 0.0001\n",
        "d_factor = 0.0001\n",
        "rr_step = 200\n",
        "\n",
        "np.set_printoptions(threshold=sys.maxsize)"
      ]
    },
    {
      "cell_type": "code",
      "execution_count": 7,
      "metadata": {
        "id": "eBwyTYoV5wRP"
      },
      "outputs": [],
      "source": [
        "sclaler = MinMaxScaler(feature_range = (0, 1))\n",
        "data = sclaler.fit_transform(data_set)\n",
        "data_test = sclaler.transform(data_test)\n"
      ]
    },
    {
      "cell_type": "code",
      "execution_count": 9,
      "metadata": {
        "colab": {
          "base_uri": "https://localhost:8080/"
        },
        "id": "OrZUqFtI5wRS",
        "outputId": "a238cbef-8e3f-4cd0-b625-46e1ce7b86c0"
      },
      "outputs": [
        {
          "output_type": "stream",
          "name": "stdout",
          "text": [
            "\r\n",
            "Epoch: 0\n",
            "Learning rate: 0.0\n",
            "Neighborhood radius: 1\n",
            "Weight change: 1.0402161388922693e-06 < 0.0001\n",
            "Stopping condition is satisfied!\n"
          ]
        }
      ],
      "source": [
        "weight = np.copy(weight_0)\n",
        "weight_final = np.copy(weight)\n",
        "weight_all =[]\n",
        "weight_all.append(weight_final)\n",
        "for epoch in range(epochs_all):\n",
        "    print(\"\\r\\nEpoch:\", epoch)\n",
        "    print(\"Learning rate:\", np.around(learning_rate, 6))\n",
        "    print(\"Neighborhood radius:\", a_4)\n",
        "    \n",
        "    pattern_ordering = np.arange(a_3)\n",
        "    \n",
        "    progress = 0\n",
        "    \n",
        "    for p in pattern_ordering:\n",
        "        \n",
        "        progress = progress + 1\n",
        "        \n",
        "        vec_dist = np.zeros(a_1)\n",
        "    \n",
        "        for j in range(a_1):\n",
        "            for i in range(a_2):\n",
        "                vec_dist[j] = vec_dist[j] + (weight[i,j] - data[p,i])**2\n",
        "                \n",
        "\n",
        "        dist_min = np.argmin(vec_dist)\n",
        "        \n",
        "        \n",
        "        start_1 = dist_min - a_4\n",
        "        if (start_1 < 0):\n",
        "            start_1 = 0\n",
        "        \n",
        "        end_1 = dist_min + a_4\n",
        "        if (end_1 > a_1 - 1):\n",
        "            end_1 = a_1 - 1\n",
        "            \n",
        "        \n",
        "        for j in range(start_1, end_1 + 1):\n",
        "            for i in range(a_2):\n",
        "                weight[i,j] = weight[i,j] + learning_rate * (data[p,i] - weight[i,j])\n",
        "\n",
        "    learning_rate = d_factor * learning_rate\n",
        "\n",
        "    if (epoch % rr_step):\n",
        "        if a_4 > 0 :\n",
        "            a_4 = a_4 - 1\n",
        "        \n",
        "    weight_1 = np.amax(np.abs(weight - weight_final))\n",
        "    \n",
        "    if (weight_1 < weight_max):\n",
        "        print(\"Weight change:\", weight_1, \"<\", weight_max)\n",
        "        print(\"Stopping condition is satisfied!\")\n",
        "        break\n",
        "    else:\n",
        "        print(\"Weight change:\", weight_1, \">\", weight_max)\n",
        "    \n",
        "    weight_final = np.copy(weight)\n",
        "    weight_all.append(weight_final)\n",
        "\n"
      ]
    },
    {
      "cell_type": "code",
      "execution_count": 11,
      "metadata": {
        "id": "KWxU-AYp5wRg"
      },
      "outputs": [],
      "source": [
        "cluster_patern = np.zeros((a_3, 2), dtype=int)\n",
        "\n",
        "for p in range(300):\n",
        "\n",
        "    vec_dist = np.zeros(a_1)\n",
        "\n",
        "    for j in range(a_1):\n",
        "        for i in range(a_2):\n",
        "            vec_dist[j] = vec_dist[j] + (weight[i,j] - data_test[p,i])**2\n",
        "\n",
        "    dist_min = np.argmin(vec_dist)\n",
        "    \n",
        "    cluster_patern[p,0] = a_3\n",
        "    cluster_patern[p,1] = dist_min"
      ]
    },
    {
      "cell_type": "code",
      "execution_count": 13,
      "metadata": {
        "colab": {
          "base_uri": "https://localhost:8080/"
        },
        "id": "1P_Pb9qg6RFo",
        "outputId": "bc9cd2c1-5df7-4187-d687-7743f5f48bd8"
      },
      "outputs": [
        {
          "output_type": "stream",
          "name": "stdout",
          "text": [
            "20 Largest Clusters\n",
            "Cluster 202 \t=>\t 98 patterns.\n",
            "Cluster 182 \t=>\t 25 patterns.\n",
            "Cluster 167 \t=>\t 23 patterns.\n",
            "Cluster 207 \t=>\t 21 patterns.\n",
            "Cluster 154 \t=>\t 20 patterns.\n",
            "Cluster 97 \t=>\t 20 patterns.\n",
            "Cluster 65 \t=>\t 13 patterns.\n",
            "Cluster 163 \t=>\t 12 patterns.\n",
            "Cluster 108 \t=>\t 10 patterns.\n",
            "Cluster 179 \t=>\t 5 patterns.\n",
            "Cluster 22 \t=>\t 5 patterns.\n",
            "Cluster 43 \t=>\t 4 patterns.\n",
            "Cluster 11 \t=>\t 4 patterns.\n",
            "Cluster 59 \t=>\t 4 patterns.\n",
            "Cluster 215 \t=>\t 4 patterns.\n",
            "Cluster 169 \t=>\t 3 patterns.\n",
            "Cluster 196 \t=>\t 3 patterns.\n",
            "Cluster 93 \t=>\t 3 patterns.\n",
            "Cluster 184 \t=>\t 2 patterns.\n",
            "Cluster 212 \t=>\t 2 patterns.\n",
            "\r\n",
            "Total 281 patterns are in top 20 clusters.\n"
          ]
        }
      ],
      "source": [
        "clt_size = [0 for j in range(a_1)]\n",
        "clt_member = [[] for j in range(a_1)]\n",
        "for p in range(300):\n",
        "    # increment cluster size by 1\n",
        "    clt_size[cluster_patern[p,1].astype(int)] = clt_size[cluster_patern[p,1].astype(int)] + 1\n",
        "    # append the pattern index to cluster members list\n",
        "    clt_member[cluster_patern[p,1].astype(int)].append(p)\n",
        "\n",
        "\n",
        "clt_patern = [clt_size, clt_member]\n",
        "\n",
        "larg_clt = np.asarray(clt_size).argsort()[-20:][::-1]\n",
        "\n",
        "print(\"20 Largest Clusters\")\n",
        "total_20 = 0\n",
        "for j in larg_clt:\n",
        "    print(\"Cluster\", j, \"\\t=>\\t\", clt_size[j],\"patterns.\")\n",
        "    total_20 = total_20 + clt_size[j]\n",
        "print(\"\\r\\nTotal\", total_20, \"patterns are in top 20 clusters.\")"
      ]
    },
    {
      "cell_type": "code",
      "execution_count": 14,
      "metadata": {
        "id": "TLipiV_pRprh"
      },
      "outputs": [],
      "source": [
        "clusters = np.asarray(clt_size)"
      ]
    },
    {
      "cell_type": "code",
      "execution_count": 15,
      "metadata": {
        "colab": {
          "base_uri": "https://localhost:8080/",
          "height": 609
        },
        "id": "Ub838Y5PfpMY",
        "outputId": "10be7906-69e7-4796-82d3-ff55125f8ce2"
      },
      "outputs": [
        {
          "output_type": "execute_result",
          "data": {
            "text/plain": [
              "<BarContainer object of 225 artists>"
            ]
          },
          "metadata": {},
          "execution_count": 15
        },
        {
          "output_type": "display_data",
          "data": {
            "text/plain": [
              "<Figure size 1080x720 with 1 Axes>"
            ],
            "image/png": "[encoded data removed]"
          },
          "metadata": {
            "needs_background": "light"
          }
        }
      ],
      "source": [
        "br1 = np.arange(len(clusters))\n",
        " \n",
        "plt.figure(figsize=(15,10))\n",
        "plt.bar(br1, clusters, color ='r', width = 1,\n",
        "        edgecolor ='grey', label ='IT')\n"
      ]
    },
    {
      "cell_type": "code",
      "execution_count": 16,
      "metadata": {
        "colab": {
          "base_uri": "https://localhost:8080/"
        },
        "id": "Em_5j55Yf48c",
        "outputId": "21c45f9f-7d2d-4ffc-d4b9-7af069a0860a"
      },
      "outputs": [
        {
          "output_type": "execute_result",
          "data": {
            "text/plain": [
              "(784, 225)"
            ]
          },
          "metadata": {},
          "execution_count": 16
        }
      ],
      "source": [
        "weight_final.shape"
      ]
    }
  ],
  "metadata": {
    "accelerator": "GPU",
    "colab": {
      "provenance": []
    },
    "kernelspec": {
      "display_name": "Python 3 (ipykernel)",
      "language": "python",
      "name": "python3"
    },
    "language_info": {
      "codemirror_mode": {
        "name": "ipython",
        "version": 3
      },
      "file_extension": ".py",
      "mimetype": "text/x-python",
      "name": "python",
      "nbconvert_exporter": "python",
      "pygments_lexer": "ipython3",
      "version": "3.9.5"
    }
  },
  "nbformat": 4,
  "nbformat_minor": 0
}