{
  "cells": [
    {
      "cell_type": "markdown",
      "metadata": {
        "id": "aYsmiol_yjDZ"
      },
      "source": [
        "# Question 3 : Dimensionality Reduction"
      ]
    },
    {
      "cell_type": "markdown",
      "metadata": {
        "id": "yZHTlXYFyjDe"
      },
      "source": [
        "# 1) Dimension Reduction on Question 1"
      ]
    },
    {
      "cell_type": "markdown",
      "metadata": {
        "id": "2r1fVSkSyjDe"
      },
      "source": [
        "## Dimensionality Reduction using AutoEncoders"
      ]
    },
    {
      "cell_type": "code",
      "execution_count": 63,
      "metadata": {
        "id": "GYtgg5blyjDe"
      },
      "outputs": [],
      "source": [
        "import numpy as np\n",
        "import pandas as pd\n",
        "import keras\n",
        "import torch.nn as nn\n",
        "import torch\n",
        "from keras.layers import Input, Dense\n",
        "from keras.models import Model\n",
        "from sklearn.preprocessing import minmax_scale\n",
        "from sklearn.model_selection import train_test_split\n",
        "from sklearn.preprocessing import StandardScaler\n",
        "import matplotlib.pyplot as plt\n",
        "from sklearn.metrics import confusion_matrix \n",
        "import seaborn as sns\n",
        "from sklearn.metrics import classification_report\n",
        "from sklearn.preprocessing import StandardScaler"
      ]
    },
    {
      "cell_type": "code",
      "execution_count": 37,
      "metadata": {
        "id": "Erh9XgaPyjDf"
      },
      "outputs": [],
      "source": [
        "Data_set = pd.read_csv('/content/ionosphere.data',header=None)\n",
        "Data_set['y'] = Data_set[34]\n",
        "Data_set = Data_set.drop(34,axis = 1)\n",
        "Data_set[0] = Data_set[0].astype('category')\n",
        "Data_set['y'] = Data_set['y'].astype('category')\n",
        "Data_set['y'] = Data_set['y'].replace({'g':1, 'b' : 0})"
      ]
    },
    {
      "cell_type": "code",
      "execution_count": 38,
      "metadata": {
        "id": "m6PeMvRjyjDf"
      },
      "outputs": [],
      "source": [
        "input = Data_set.drop('y',axis = 1).to_numpy()\n",
        "output = Data_set['y'].to_numpy()"
      ]
    },
    {
      "cell_type": "code",
      "execution_count": 39,
      "metadata": {
        "id": "r1_bjsppyjDg"
      },
      "outputs": [],
      "source": [
        "X_train, X_test, y_train, y_test = train_test_split(input, output, test_size=0.2, random_state=42, stratify=output)"
      ]
    },
    {
      "cell_type": "code",
      "execution_count": 40,
      "metadata": {
        "id": "W2v2-IXY0fVA"
      },
      "outputs": [],
      "source": [
        "scale_train = minmax_scale(X_train, axis = 0)\n",
        "scale_test = minmax_scale(X_test, axis = 0)"
      ]
    },
    {
      "cell_type": "markdown",
      "metadata": {
        "id": "gitO_hHVACUZ"
      },
      "source": [
        "### Defining the AutoEncoder"
      ]
    },
    {
      "cell_type": "code",
      "execution_count": 41,
      "metadata": {
        "id": "Rt5JJW530gF1"
      },
      "outputs": [],
      "source": [
        "encoding = 17\n",
        "n = 34\n",
        "dim = Input(shape = (n, ))\n",
        "\n",
        "# Encoder Layers\n",
        "encoder_1 = Dense(28, activation = 'relu')(dim)\n",
        "encoder_2 = Dense(22, activation = 'relu')(encoder_1)\n",
        "encoder_3 = Dense(encoding, activation = 'relu')(encoder_2)\n",
        "\n",
        "# Decoder Layers\n",
        "decoder_1 = Dense(22, activation = 'relu')(encoder_3)\n",
        "decoder_2 = Dense(28, activation = 'relu')(decoder_1)\n",
        "decoder_3 = Dense(ncol, activation = 'sigmoid')(decoder_2)\n",
        "\n",
        "auto_encoder = Model(inputs = dim, outputs = decoder_3)\n",
        "\n",
        "auto_encoder.compile(optimizer = 'adam', loss = 'binary_crossentropy')"
      ]
    },
    {
      "cell_type": "code",
      "execution_count": 42,
      "metadata": {
        "colab": {
          "base_uri": "https://localhost:8080/"
        },
        "id": "ntnI-rC41pJA",
        "outputId": "73bd986c-dc49-473b-80fb-a476900ccdf6"
      },
      "outputs": [
        {
          "output_type": "stream",
          "name": "stdout",
          "text": [
            "Model: \"model_3\"\n",
            "_________________________________________________________________\n",
            " Layer (type)                Output Shape              Param #   \n",
            "=================================================================\n",
            " input_5 (InputLayer)        [(None, 34)]              0         \n",
            "                                                                 \n",
            " dense_8 (Dense)             (None, 28)                980       \n",
            "                                                                 \n",
            " dense_9 (Dense)             (None, 22)                638       \n",
            "                                                                 \n",
            " dense_10 (Dense)            (None, 17)                391       \n",
            "                                                                 \n",
            " dense_11 (Dense)            (None, 22)                396       \n",
            "                                                                 \n",
            " dense_12 (Dense)            (None, 28)                644       \n",
            "                                                                 \n",
            " dense_13 (Dense)            (None, 34)                986       \n",
            "                                                                 \n",
            "=================================================================\n",
            "Total params: 4,035\n",
            "Trainable params: 4,035\n",
            "Non-trainable params: 0\n",
            "_________________________________________________________________\n"
          ]
        }
      ],
      "source": [
        "auto_encoder.summary()"
      ]
    },
    {
      "cell_type": "markdown",
      "metadata": {
        "id": "opU7-4JV97GI"
      },
      "source": [
        "### Training the AutoEncoder"
      ]
    },
    {
      "cell_type": "code",
      "execution_count": null,
      "metadata": {
        "id": "9F3MhCRn3mSZ"
      },
      "outputs": [],
      "source": [
        "auto_encoder.fit(scale_train, scale_train, epochs = 200, batch_size = 32, shuffle = False, validation_data = (scale_test, scale_test))"
      ]
    },
    {
      "cell_type": "markdown",
      "metadata": {
        "id": "U_k1VYL0-FF8"
      },
      "source": [
        "### Use AutoEncoder to reduce dimension of train and test data"
      ]
    },
    {
      "cell_type": "code",
      "execution_count": 44,
      "metadata": {
        "id": "ey0tOZ6c9lCm"
      },
      "outputs": [],
      "source": [
        "encoder = Model(inputs = dim, outputs = encoder_3)\n",
        "encoder_input = Input(shape = (encoding, ))"
      ]
    },
    {
      "cell_type": "code",
      "execution_count": 45,
      "metadata": {
        "id": "f6bT_1A_-J-_",
        "colab": {
          "base_uri": "https://localhost:8080/"
        },
        "outputId": "5190395b-703a-462b-fa93-89ec5afb8ce7"
      },
      "outputs": [
        {
          "output_type": "stream",
          "name": "stdout",
          "text": [
            "9/9 [==============================] - 0s 2ms/step\n",
            "3/3 [==============================] - 0s 3ms/step\n"
          ]
        },
        {
          "output_type": "stream",
          "name": "stderr",
          "text": [
            "/usr/local/lib/python3.7/dist-packages/ipykernel_launcher.py:9: DeprecationWarning: `np.float` is a deprecated alias for the builtin `float`. To silence this warning, use `float` by itself. Doing this will not modify any behavior and is safe. If you specifically wanted the numpy scalar type, use `np.float64` here.\n",
            "Deprecated in NumPy 1.20; for more details and guidance: https://numpy.org/devdocs/release/1.20.0-notes.html#deprecations\n",
            "  if __name__ == '__main__':\n",
            "/usr/local/lib/python3.7/dist-packages/ipykernel_launcher.py:10: DeprecationWarning: `np.float` is a deprecated alias for the builtin `float`. To silence this warning, use `float` by itself. Doing this will not modify any behavior and is safe. If you specifically wanted the numpy scalar type, use `np.float64` here.\n",
            "Deprecated in NumPy 1.20; for more details and guidance: https://numpy.org/devdocs/release/1.20.0-notes.html#deprecations\n",
            "  # Remove the CWD from sys.path while we load stuff.\n"
          ]
        }
      ],
      "source": [
        "train_encoder = pd.DataFrame(encoder.predict(scale_train))\n",
        "train_encoder = train_encoder.add_prefix('feature_')\n",
        "train_encoder = train_encoder.values\n",
        "\n",
        "test_encoder = pd.DataFrame(encoder.predict(scale_test))\n",
        "test_encoder = test_encoder.add_prefix('feature_')\n",
        "test_encoder = test_encoder.values\n",
        "\n",
        "train_encoder = train_encoder.astype(np.float)\n",
        "test_encoder = test_encoder.astype(np.float)"
      ]
    },
    {
      "cell_type": "code",
      "execution_count": 46,
      "metadata": {
        "colab": {
          "base_uri": "https://localhost:8080/"
        },
        "id": "OWFNFO9x-dOx",
        "outputId": "60efb9ea-dd85-49b1-c3b3-ccd4b0e996ad"
      },
      "outputs": [
        {
          "output_type": "execute_result",
          "data": {
            "text/plain": [
              "array([[3.15770888, 5.97711563, 2.69410682, ..., 2.74288893, 5.69406891,\n",
              "        3.3052361 ],\n",
              "       [1.9111594 , 5.01259089, 2.46880245, ..., 2.89449859, 4.99127722,\n",
              "        3.10746217],\n",
              "       [1.44245362, 4.33601046, 2.45353174, ..., 2.84478116, 4.88710213,\n",
              "        3.28663468],\n",
              "       ...,\n",
              "       [1.13184738, 3.25324345, 0.        , ..., 2.71315527, 0.        ,\n",
              "        1.37908959],\n",
              "       [0.6404407 , 4.89365578, 2.02144909, ..., 3.04898095, 3.27196002,\n",
              "        2.45148087],\n",
              "       [1.57906115, 4.11474895, 2.47460341, ..., 1.17238224, 3.98824787,\n",
              "        1.58423114]])"
            ]
          },
          "metadata": {},
          "execution_count": 46
        }
      ],
      "source": [
        "train_encoder"
      ]
    },
    {
      "cell_type": "markdown",
      "metadata": {
        "id": "RpCXms8oBiDo"
      },
      "source": [
        "### Trying the encoded training set on the model"
      ]
    },
    {
      "cell_type": "code",
      "execution_count": 47,
      "metadata": {
        "id": "3RtLyjF5BEOL"
      },
      "outputs": [],
      "source": [
        "class train_model(nn.Module):\n",
        "    def __init__(self, n_cont, output_size, layers, p=0.5, activation_function = nn.ReLU(inplace=True),\n",
        "                drop_able = False, batch_normalize = False) :\n",
        "        super().__init__()\n",
        "        self.batch_normalize = batch_normalize\n",
        "        if batch_normalize :\n",
        "            self.bn_cont = nn.BatchNorm1d(n_cont)\n",
        "        \n",
        "        layer = []\n",
        "        input_n = n_cont\n",
        "        if len(layers) == 0 :\n",
        "            layer.append(nn.Linear(input_n,output_size))\n",
        "            if activation_function != None :\n",
        "                layer.append(activation_function)\n",
        "            if drop_able == True :\n",
        "                layer.append(nn.Dropout(p))\n",
        "        else :\n",
        "            for i in layers:\n",
        "                layer.append(nn.Linear(input_n,i)) \n",
        "                if activation_function != None :\n",
        "                    layer.append(activation_function)\n",
        "                if batch_normalize :\n",
        "                    layer.append(nn.BatchNorm1d(i))\n",
        "                if drop_able == True :\n",
        "                    layer.append(nn.Dropout(p))\n",
        "                input_n = i\n",
        "            layer.append(nn.Linear(layers[-1],output_size))\n",
        "            \n",
        "        self.layers = nn.Sequential(*layer)\n",
        "    \n",
        "    def forward(self, x_1):\n",
        "        if self.batch_normalize :\n",
        "            x_1 = self.bn_cont(x_1)\n",
        "        x = self.layers(x_1)\n",
        "        return x"
      ]
    },
    {
      "cell_type": "code",
      "execution_count": 48,
      "metadata": {
        "id": "RLgh4vQ-CV62"
      },
      "outputs": [],
      "source": [
        "def minibatch(target_x,validation_x,y_t,validation_y, epochs, batch_size,model,criterion,optimizer):\n",
        "    train_loss_1 = []\n",
        "    test_loss_1 = []\n",
        "\n",
        "    tensor_x = torch.tensor(target_x, dtype=torch.float)\n",
        "    tensor_validation = torch.tensor(validation_x, dtype=torch.float)\n",
        "\n",
        "    y_t_tensor = torch.tensor(y_t).flatten()\n",
        "    tensort_validation_y = torch.tensor(validation_y).flatten()\n",
        "\n",
        "    for i in range(epochs):\n",
        "        i += 1\n",
        "        with torch.no_grad():\n",
        "            y_test = model(tensor_validation)\n",
        "            test_loss = criterion(y_test, tensort_validation_y)\n",
        "            test_loss_1.append(test_loss.item())\n",
        "\n",
        "        start = 0\n",
        "        while start < len(target_x) :\n",
        "            if start + batch_size >= len(target_x) :\n",
        "                prediction_y = model(tensor_x[start:])\n",
        "                loss = criterion(prediction_y, y_t_tensor[start:start+batch_size])\n",
        "                train_loss_1.append(loss.item())\n",
        "                optimizer.zero_grad()\n",
        "                loss.backward()\n",
        "                optimizer.step()\n",
        "                break\n",
        "            else :\n",
        "                prediction_y = model(tensor_x[start:start+batch_size])\n",
        "                loss = criterion(prediction_y, y_t_tensor[start:start+batch_size])\n",
        "                optimizer.zero_grad()\n",
        "                loss.backward()\n",
        "                optimizer.step()\n",
        "\n",
        "                start = start+batch_size\n",
        "\n",
        "\n",
        "        if i%5 == 1:\n",
        "            print(f'Epoch: {i:3}  Training Loss: {loss.item():10.8f} Test Loss: {test_loss}')\n",
        "\n",
        "    print(f'Epoch: {epochs}  Training Loss: {loss.item():10.8f} Test Loss: {test_loss}')\n",
        "\n",
        "    return train_loss_1,test_loss_1\n"
      ]
    },
    {
      "cell_type": "code",
      "execution_count": 57,
      "metadata": {
        "id": "0q16rgkYCiy8"
      },
      "outputs": [],
      "source": [
        "input_features = encoding\n",
        "output_features = 2\n",
        "hidden_layers = [1000, 500, 250, 125]\n",
        "batch_size = 8\n",
        "epochs = 30\n",
        "\n",
        "tr = train_model(input_features, output_features, hidden_layers, p=0.4, activation_function = nn.ReLU(inplace = True),drop_able = True)\n",
        "\n",
        "criterion = nn.CrossEntropyLoss()\n",
        "\n",
        "optimizer = torch.optim.Adam(tr.parameters(), lr=0.001)"
      ]
    },
    {
      "cell_type": "code",
      "execution_count": 60,
      "metadata": {
        "id": "q_QS4YJZM8Xf"
      },
      "outputs": [],
      "source": [
        "def diagrams(train_loss_1,valid_loss_1,model,target_x,target_y) :\n",
        "    \n",
        "    plt.plot(train_loss_1)\n",
        "    plt.plot(valid_loss_1)\n",
        "    plt.title('Loss per epoch')\n",
        "    plt.ylabel('Loss')\n",
        "    plt.xlabel('epoch')\n",
        "    plt.legend(['train', 'test'], loc='upper right')\n",
        "    plt.show()\n",
        "\n",
        "    tensor_validation = torch.tensor(target_x, dtype=torch.float)\n",
        "    with torch.no_grad():\n",
        "        prediction_y = model(tensor_validation)\n",
        "\n",
        "    validation_y = []\n",
        "\n",
        "    for i in range(len(prediction_y)):\n",
        "        validation_y.append(prediction_y[i].argmax().item())\n",
        "\n",
        "    Confusion_Matrix = confusion_matrix(target_y.tolist(), validation_y)\n",
        "    sns.heatmap(Confusion_Matrix, annot=True, cmap='Blues')\n",
        "    plt.title('Confusion Matrix')\n",
        "    \n",
        "    print(classification_report(target_y.tolist(), validation_y, target_names=['bad','good']))"
      ]
    },
    {
      "cell_type": "code",
      "execution_count": 61,
      "metadata": {
        "colab": {
          "base_uri": "https://localhost:8080/"
        },
        "id": "Lwet3YapDYz6",
        "outputId": "999b6393-ea17-49c2-cbbf-76548a62e519"
      },
      "outputs": [
        {
          "output_type": "stream",
          "name": "stdout",
          "text": [
            "Epoch:   1  Training Loss: 0.15875575 Test Loss: 0.24041607975959778\n",
            "Epoch:   6  Training Loss: 0.25172350 Test Loss: 0.17749878764152527\n",
            "Epoch:  11  Training Loss: 0.12059532 Test Loss: 0.14629223942756653\n",
            "Epoch:  16  Training Loss: 0.16256621 Test Loss: 0.16186870634555817\n",
            "Epoch:  21  Training Loss: 0.17519017 Test Loss: 0.22012579441070557\n",
            "Epoch:  26  Training Loss: 0.07861152 Test Loss: 0.1774006485939026\n",
            "Epoch: 30  Training Loss: 0.16283317 Test Loss: 0.14791744947433472\n"
          ]
        }
      ],
      "source": [
        "train_loss_1,valid_loss_1 = minibatch(train_encoder,test_encoder, y_train,y_test,epochs, batch_size,tr,criterion,optimizer)"
      ]
    },
    {
      "cell_type": "code",
      "execution_count": 62,
      "metadata": {
        "colab": {
          "base_uri": "https://localhost:8080/",
          "height": 715
        },
        "id": "vfi2xMVREpB9",
        "outputId": "6443510c-13d6-4d95-c485-79b76d7adb85"
      },
      "outputs": [
        {
          "output_type": "display_data",
          "data": {
            "text/plain": [
              "<Figure size 432x288 with 1 Axes>"
            ],
            "image/png": "[encoded data removed]"
          },
          "metadata": {
            "needs_background": "light"
          }
        },
        {
          "output_type": "stream",
          "name": "stdout",
          "text": [
            "              precision    recall  f1-score   support\n",
            "\n",
            "         bad       0.88      0.92      0.90        25\n",
            "        good       0.96      0.93      0.95        46\n",
            "\n",
            "    accuracy                           0.93        71\n",
            "   macro avg       0.92      0.93      0.92        71\n",
            "weighted avg       0.93      0.93      0.93        71\n",
            "\n"
          ]
        },
        {
          "output_type": "display_data",
          "data": {
            "text/plain": [
              "<Figure size 432x288 with 2 Axes>"
            ],
            "image/png": "[encoded data removed]"
          },
          "metadata": {
            "needs_background": "light"
          }
        }
      ],
      "source": [
        "diagrams(train_loss_1,valid_loss_1,tr,test_encoder,y_test)"
      ]
    },
    {
      "cell_type": "markdown",
      "metadata": {
        "id": "xQcYu2NvPZfS"
      },
      "source": [
        "### The effect of dimension reduction on the model's result\n",
        "In question 1, we achieved 96% precision but with dimension reduction the precision is 88%. The performance of the model became worse due to possible <b>data loss</b> from dimension reduction."
      ]
    },
    {
      "cell_type": "markdown",
      "metadata": {
        "id": "PfgDDXeaWuWI"
      },
      "source": [
        "## Dimensionality Reduction using PCA"
      ]
    },
    {
      "cell_type": "code",
      "execution_count": 65,
      "metadata": {
        "colab": {
          "base_uri": "https://localhost:8080/"
        },
        "id": "nZpA5tInP0bm",
        "outputId": "4a5a67c5-a06b-41f7-b245-c8b2b6e9309a"
      },
      "outputs": [
        {
          "output_type": "execute_result",
          "data": {
            "text/plain": [
              "array([ 0.34843328,  0.        ,  0.72164805, -0.52781074,  0.63430773,\n",
              "       -1.03758697, -1.33910577, -2.02945199,  0.96407416, -0.46948184,\n",
              "        0.05785987, -1.68478062, -0.09090821, -1.599628  , -1.32077439,\n",
              "       -2.28587042, -0.52979769, -1.24735087, -0.04525228, -1.88290035,\n",
              "       -0.76886206, -0.8915184 , -0.90069558, -0.56945458, -1.03778979,\n",
              "       -0.38305389, -1.44784862, -0.20841918, -0.9891848 , -0.17352964,\n",
              "       -0.90906286, -0.11521328, -0.93260505, -0.08328554])"
            ]
          },
          "metadata": {},
          "execution_count": 65
        }
      ],
      "source": [
        "scale_x = StandardScaler().fit_transform(input)\n",
        "scale_x[1]"
      ]
    },
    {
      "cell_type": "markdown",
      "metadata": {
        "id": "SIVWg0sMlwgh"
      },
      "source": [
        "### Covariance matrix\n"
      ]
    },
    {
      "cell_type": "code",
      "execution_count": 66,
      "metadata": {
        "colab": {
          "base_uri": "https://localhost:8080/"
        },
        "id": "m-De2x_WWrbS",
        "outputId": "9aae5eab-adbb-4d07-fa5a-21491eb28dbc"
      },
      "outputs": [
        {
          "output_type": "execute_result",
          "data": {
            "text/plain": [
              "array([-6.54750578e-03,  0.00000000e+00,  1.43774417e-01,  1.00285714e+00,\n",
              "        1.15514103e-03, -1.90851343e-01, -5.41838976e-02,  2.55731541e-01,\n",
              "       -3.03180852e-01,  2.08290745e-01, -1.90632900e-01,  3.16779785e-01,\n",
              "       -1.49642618e-01,  2.37280420e-01, -2.53872855e-01,  1.86403368e-01,\n",
              "       -2.51860511e-01, -1.47872635e-01, -3.33162250e-01,  1.67721934e-01,\n",
              "       -2.81886795e-01, -3.55018389e-02, -1.44129607e-01,  1.64665149e-01,\n",
              "       -1.04930880e-01, -2.37664211e-01, -4.70435699e-02,  7.45165168e-04,\n",
              "       -4.12078088e-02,  3.43278732e-01, -1.72767939e-01, -1.23138974e-01,\n",
              "       -1.54404292e-01,  3.47073068e-02])"
            ]
          },
          "metadata": {},
          "execution_count": 66
        }
      ],
      "source": [
        "features = scale_x.T\n",
        "Coavariance_Matrix = np.cov(features)\n",
        "Coavariance_Matrix[3]"
      ]
    },
    {
      "cell_type": "markdown",
      "metadata": {
        "id": "qywjrexQlz9-"
      },
      "source": [
        "### Eigendecomposition\n",
        "Here we will calculate eigen values and eigen vectors : "
      ]
    },
    {
      "cell_type": "code",
      "execution_count": 68,
      "metadata": {
        "colab": {
          "base_uri": "https://localhost:8080/"
        },
        "id": "RgqbVQ_WYtq4",
        "outputId": "71dcdc6c-d0e3-4a88-f75d-2bfbcacf7f4b"
      },
      "outputs": [
        {
          "output_type": "execute_result",
          "data": {
            "text/plain": [
              "array([8.83731976, 4.25075499, 2.72400955, 2.39537094, 1.95572286])"
            ]
          },
          "metadata": {},
          "execution_count": 68
        }
      ],
      "source": [
        "val, vect = np.linalg.eig(Coavariance_Matrix)\n",
        "val[:5]"
      ]
    },
    {
      "cell_type": "code",
      "execution_count": 69,
      "metadata": {
        "colab": {
          "base_uri": "https://localhost:8080/"
        },
        "id": "8HOW3RgFmMWq",
        "outputId": "a4a2ecf2-68ca-45fe-eb30-3be4975c77ee"
      },
      "outputs": [
        {
          "output_type": "stream",
          "name": "stdout",
          "text": [
            "1.0000000000000004 \n",
            " [0.2670346123147653, 0.12844377497159062, 0.08231057084049177, 0.07238019752536187, 0.05909548471059503, 0.0354370576443723, 0.033835679241128104, 0.030600314982258302, 0.028014529207228234, 0.025231304751003738, 0.023396779243677286, 0.021539666225779873, 0.018460898910740344, 0.01706554924704434, 0.01605633788655707, 0.014579057076879278, 0.013454670453810599, 0.002106282995601888, 0.012429550944717838, 0.002926737272634445, 0.01142881479637724, 0.01128635504170899, 0.01022673480854501, 0.009256607731627505, 0.008435629494280436, 0.003897518646238357, 0.0041448809190843105, 0.007408922743682913, 0.005107368467253893, 0.005266100873078519, 0.005882071869741415, 0.006767689272421883, 0.006492248889721465, 0.0]\n"
          ]
        }
      ],
      "source": [
        "exp_var = []\n",
        "for i in range(len(val)):\n",
        "    exp_var.append(val[i] / np.sum(val))\n",
        " \n",
        "print(np.sum(exp_var), '\\n', exp_var)"
      ]
    },
    {
      "cell_type": "markdown",
      "metadata": {
        "id": "JAu4P2C-mdJb"
      },
      "source": [
        "### Projection"
      ]
    },
    {
      "cell_type": "code",
      "execution_count": 70,
      "metadata": {
        "id": "GyjB6exCmVW5"
      },
      "outputs": [],
      "source": [
        "project_1 = scale_x.dot(vect.T[0])\n",
        "project_2 = scale_x.dot(vect.T[1])\n",
        "project_3 = scale_x.dot(vect.T[2])\n",
        "project_4 = scale_x.dot(vect.T[3])\n",
        "project_5 = scale_x.dot(vect.T[4])\n",
        "project_6 = scale_x.dot(vect.T[5])\n",
        "project_7 = scale_x.dot(vect.T[6])\n",
        "project_8 = scale_x.dot(vect.T[7])\n",
        "project_9 = scale_x.dot(vect.T[8])\n",
        "project_10 = scale_x.dot(vect.T[9])"
      ]
    },
    {
      "cell_type": "code",
      "execution_count": 73,
      "metadata": {
        "colab": {
          "base_uri": "https://localhost:8080/",
          "height": 424
        },
        "id": "ByADSJb0mfW6",
        "outputId": "20718a32-de73-4a49-b94e-57ac064a7dfb"
      },
      "outputs": [
        {
          "output_type": "execute_result",
          "data": {
            "text/plain": [
              "          PC1       PC2       PC3       PC4       PC5       PC6       PC7  \\\n",
              "0    1.668242  2.054597  0.064908 -1.712482  0.009364  0.479606 -0.730332   \n",
              "1   -0.823940  2.583636 -1.975118 -1.392990 -0.383751  0.763313 -1.535862   \n",
              "2    2.034095  0.748245  0.837354 -1.108202  0.120072  0.062519 -0.220461   \n",
              "3   -1.252374 -1.363326 -0.740357  2.670223 -1.934133  1.241942  0.164094   \n",
              "4   -0.017756  1.845357  0.343250 -2.716045 -0.298941  0.297013 -0.590563   \n",
              "..        ...       ...       ...       ...       ...       ...       ...   \n",
              "346  3.156856  0.000433  0.410117  0.097405  0.503017 -0.297292 -0.409806   \n",
              "347  3.562330 -0.324750  0.639838  0.265659  0.266194 -0.140936 -0.076933   \n",
              "348  3.512043 -0.204754  0.639182  0.180498  0.164201 -0.092654 -0.060033   \n",
              "349  3.308935  0.343454  0.681005 -0.058668  0.051518  0.013579  0.141086   \n",
              "350  2.705653  0.230427  0.529344  0.036980  0.372647 -0.308558 -0.325846   \n",
              "\n",
              "          PC8       PC9      PC10  target  \n",
              "0    0.110340  0.718496 -0.874031       1  \n",
              "1    0.306477  0.489140 -3.214970       0  \n",
              "2    0.100407  0.354253 -0.322654       1  \n",
              "3   -0.526752 -0.775621 -3.025268       0  \n",
              "4   -0.370771  1.042176 -1.197267       1  \n",
              "..        ...       ...       ...     ...  \n",
              "346 -0.126291 -0.486821  0.406002       1  \n",
              "347 -0.037992 -0.282564  0.232936       1  \n",
              "348 -0.033479 -0.316029  0.255157       1  \n",
              "349  0.077646 -0.212691  0.132033       1  \n",
              "350  0.041552 -0.106898  0.329442       1  \n",
              "\n",
              "[351 rows x 11 columns]"
            ],
            "text/html": [
              "\n",
              "  <div id=\"df-4311bcc9-83da-4f39-850d-f8d78eccf0a9\">\n",
              "    <div class=\"colab-df-container\">\n",
              "      <div>\n",
              "<style scoped>\n",
              "    .dataframe tbody tr th:only-of-type {\n",
              "        vertical-align: middle;\n",
              "    }\n",
              "\n",
              "    .dataframe tbody tr th {\n",
              "        vertical-align: top;\n",
              "    }\n",
              "\n",
              "    .dataframe thead th {\n",
              "        text-align: right;\n",
              "    }\n",
              "</style>\n",
              "<table border=\"1\" class=\"dataframe\">\n",
              "  <thead>\n",
              "    <tr style=\"text-align: right;\">\n",
              "      <th></th>\n",
              "      <th>PC1</th>\n",
              "      <th>PC2</th>\n",
              "      <th>PC3</th>\n",
              "      <th>PC4</th>\n",
              "      <th>PC5</th>\n",
              "      <th>PC6</th>\n",
              "      <th>PC7</th>\n",
              "      <th>PC8</th>\n",
              "      <th>PC9</th>\n",
              "      <th>PC10</th>\n",
              "      <th>target</th>\n",
              "    </tr>\n",
              "  </thead>\n",
              "  <tbody>\n",
              "    <tr>\n",
              "      <th>0</th>\n",
              "      <td>1.668242</td>\n",
              "      <td>2.054597</td>\n",
              "      <td>0.064908</td>\n",
              "      <td>-1.712482</td>\n",
              "      <td>0.009364</td>\n",
              "      <td>0.479606</td>\n",
              "      <td>-0.730332</td>\n",
              "      <td>0.110340</td>\n",
              "      <td>0.718496</td>\n",
              "      <td>-0.874031</td>\n",
              "      <td>1</td>\n",
              "    </tr>\n",
              "    <tr>\n",
              "      <th>1</th>\n",
              "      <td>-0.823940</td>\n",
              "      <td>2.583636</td>\n",
              "      <td>-1.975118</td>\n",
              "      <td>-1.392990</td>\n",
              "      <td>-0.383751</td>\n",
              "      <td>0.763313</td>\n",
              "      <td>-1.535862</td>\n",
              "      <td>0.306477</td>\n",
              "      <td>0.489140</td>\n",
              "      <td>-3.214970</td>\n",
              "      <td>0</td>\n",
              "    </tr>\n",
              "    <tr>\n",
              "      <th>2</th>\n",
              "      <td>2.034095</td>\n",
              "      <td>0.748245</td>\n",
              "      <td>0.837354</td>\n",
              "      <td>-1.108202</td>\n",
              "      <td>0.120072</td>\n",
              "      <td>0.062519</td>\n",
              "      <td>-0.220461</td>\n",
              "      <td>0.100407</td>\n",
              "      <td>0.354253</td>\n",
              "      <td>-0.322654</td>\n",
              "      <td>1</td>\n",
              "    </tr>\n",
              "    <tr>\n",
              "      <th>3</th>\n",
              "      <td>-1.252374</td>\n",
              "      <td>-1.363326</td>\n",
              "      <td>-0.740357</td>\n",
              "      <td>2.670223</td>\n",
              "      <td>-1.934133</td>\n",
              "      <td>1.241942</td>\n",
              "      <td>0.164094</td>\n",
              "      <td>-0.526752</td>\n",
              "      <td>-0.775621</td>\n",
              "      <td>-3.025268</td>\n",
              "      <td>0</td>\n",
              "    </tr>\n",
              "    <tr>\n",
              "      <th>4</th>\n",
              "      <td>-0.017756</td>\n",
              "      <td>1.845357</td>\n",
              "      <td>0.343250</td>\n",
              "      <td>-2.716045</td>\n",
              "      <td>-0.298941</td>\n",
              "      <td>0.297013</td>\n",
              "      <td>-0.590563</td>\n",
              "      <td>-0.370771</td>\n",
              "      <td>1.042176</td>\n",
              "      <td>-1.197267</td>\n",
              "      <td>1</td>\n",
              "    </tr>\n",
              "    <tr>\n",
              "      <th>...</th>\n",
              "      <td>...</td>\n",
              "      <td>...</td>\n",
              "      <td>...</td>\n",
              "      <td>...</td>\n",
              "      <td>...</td>\n",
              "      <td>...</td>\n",
              "      <td>...</td>\n",
              "      <td>...</td>\n",
              "      <td>...</td>\n",
              "      <td>...</td>\n",
              "      <td>...</td>\n",
              "    </tr>\n",
              "    <tr>\n",
              "      <th>346</th>\n",
              "      <td>3.156856</td>\n",
              "      <td>0.000433</td>\n",
              "      <td>0.410117</td>\n",
              "      <td>0.097405</td>\n",
              "      <td>0.503017</td>\n",
              "      <td>-0.297292</td>\n",
              "      <td>-0.409806</td>\n",
              "      <td>-0.126291</td>\n",
              "      <td>-0.486821</td>\n",
              "      <td>0.406002</td>\n",
              "      <td>1</td>\n",
              "    </tr>\n",
              "    <tr>\n",
              "      <th>347</th>\n",
              "      <td>3.562330</td>\n",
              "      <td>-0.324750</td>\n",
              "      <td>0.639838</td>\n",
              "      <td>0.265659</td>\n",
              "      <td>0.266194</td>\n",
              "      <td>-0.140936</td>\n",
              "      <td>-0.076933</td>\n",
              "      <td>-0.037992</td>\n",
              "      <td>-0.282564</td>\n",
              "      <td>0.232936</td>\n",
              "      <td>1</td>\n",
              "    </tr>\n",
              "    <tr>\n",
              "      <th>348</th>\n",
              "      <td>3.512043</td>\n",
              "      <td>-0.204754</td>\n",
              "      <td>0.639182</td>\n",
              "      <td>0.180498</td>\n",
              "      <td>0.164201</td>\n",
              "      <td>-0.092654</td>\n",
              "      <td>-0.060033</td>\n",
              "      <td>-0.033479</td>\n",
              "      <td>-0.316029</td>\n",
              "      <td>0.255157</td>\n",
              "      <td>1</td>\n",
              "    </tr>\n",
              "    <tr>\n",
              "      <th>349</th>\n",
              "      <td>3.308935</td>\n",
              "      <td>0.343454</td>\n",
              "      <td>0.681005</td>\n",
              "      <td>-0.058668</td>\n",
              "      <td>0.051518</td>\n",
              "      <td>0.013579</td>\n",
              "      <td>0.141086</td>\n",
              "      <td>0.077646</td>\n",
              "      <td>-0.212691</td>\n",
              "      <td>0.132033</td>\n",
              "      <td>1</td>\n",
              "    </tr>\n",
              "    <tr>\n",
              "      <th>350</th>\n",
              "      <td>2.705653</td>\n",
              "      <td>0.230427</td>\n",
              "      <td>0.529344</td>\n",
              "      <td>0.036980</td>\n",
              "      <td>0.372647</td>\n",
              "      <td>-0.308558</td>\n",
              "      <td>-0.325846</td>\n",
              "      <td>0.041552</td>\n",
              "      <td>-0.106898</td>\n",
              "      <td>0.329442</td>\n",
              "      <td>1</td>\n",
              "    </tr>\n",
              "  </tbody>\n",
              "</table>\n",
              "<p>351 rows × 11 columns</p>\n",
              "</div>\n",
              "      <button class=\"colab-df-convert\" onclick=\"convertToInteractive('df-4311bcc9-83da-4f39-850d-f8d78eccf0a9')\"\n",
              "              title=\"Convert this dataframe to an interactive table.\"\n",
              "              style=\"display:none;\">\n",
              "        \n",
              "  <svg xmlns=\"http://www.w3.org/2000/svg\" height=\"24px\"viewBox=\"0 0 24 24\"\n",
              "       width=\"24px\">\n",
              "    <path d=\"M0 0h24v24H0V0z\" fill=\"none\"/>\n",
              "    <path d=\"M18.56 5.44l.94 2.06.94-2.06 2.06-.94-2.06-.94-.94-2.06-.94 2.06-2.06.94zm-11 1L8.5 8.5l.94-2.06 2.06-.94-2.06-.94L8.5 2.5l-.94 2.06-2.06.94zm10 10l.94 2.06.94-2.06 2.06-.94-2.06-.94-.94-2.06-.94 2.06-2.06.94z\"/><path d=\"M17.41 7.96l-1.37-1.37c-.4-.4-.92-.59-1.43-.59-.52 0-1.04.2-1.43.59L10.3 9.45l-7.72 7.72c-.78.78-.78 2.05 0 2.83L4 21.41c.39.39.9.59 1.41.59.51 0 1.02-.2 1.41-.59l7.78-7.78 2.81-2.81c.8-.78.8-2.07 0-2.86zM5.41 20L4 18.59l7.72-7.72 1.47 1.35L5.41 20z\"/>\n",
              "  </svg>\n",
              "      </button>\n",
              "      \n",
              "  <style>\n",
              "    .colab-df-container {\n",
              "      display:flex;\n",
              "      flex-wrap:wrap;\n",
              "      gap: 12px;\n",
              "    }\n",
              "\n",
              "    .colab-df-convert {\n",
              "      background-color: #E8F0FE;\n",
              "      border: none;\n",
              "      border-radius: 50%;\n",
              "      cursor: pointer;\n",
              "      display: none;\n",
              "      fill: #1967D2;\n",
              "      height: 32px;\n",
              "      padding: 0 0 0 0;\n",
              "      width: 32px;\n",
              "    }\n",
              "\n",
              "    .colab-df-convert:hover {\n",
              "      background-color: #E2EBFA;\n",
              "      box-shadow: 0px 1px 2px rgba(60, 64, 67, 0.3), 0px 1px 3px 1px rgba(60, 64, 67, 0.15);\n",
              "      fill: #174EA6;\n",
              "    }\n",
              "\n",
              "    [theme=dark] .colab-df-convert {\n",
              "      background-color: #3B4455;\n",
              "      fill: #D2E3FC;\n",
              "    }\n",
              "\n",
              "    [theme=dark] .colab-df-convert:hover {\n",
              "      background-color: #434B5C;\n",
              "      box-shadow: 0px 1px 3px 1px rgba(0, 0, 0, 0.15);\n",
              "      filter: drop-shadow(0px 1px 2px rgba(0, 0, 0, 0.3));\n",
              "      fill: #FFFFFF;\n",
              "    }\n",
              "  </style>\n",
              "\n",
              "      <script>\n",
              "        const buttonEl =\n",
              "          document.querySelector('#df-4311bcc9-83da-4f39-850d-f8d78eccf0a9 button.colab-df-convert');\n",
              "        buttonEl.style.display =\n",
              "          google.colab.kernel.accessAllowed ? 'block' : 'none';\n",
              "\n",
              "        async function convertToInteractive(key) {\n",
              "          const element = document.querySelector('#df-4311bcc9-83da-4f39-850d-f8d78eccf0a9');\n",
              "          const dataTable =\n",
              "            await google.colab.kernel.invokeFunction('convertToInteractive',\n",
              "                                                     [key], {});\n",
              "          if (!dataTable) return;\n",
              "\n",
              "          const docLinkHtml = 'Like what you see? Visit the ' +\n",
              "            '<a target=\"_blank\" href=https://colab.research.google.com/notebooks/data_table.ipynb>data table notebook</a>'\n",
              "            + ' to learn more about interactive tables.';\n",
              "          element.innerHTML = '';\n",
              "          dataTable['output_type'] = 'display_data';\n",
              "          await google.colab.output.renderOutput(dataTable, element);\n",
              "          const docLink = document.createElement('div');\n",
              "          docLink.innerHTML = docLinkHtml;\n",
              "          element.appendChild(docLink);\n",
              "        }\n",
              "      </script>\n",
              "    </div>\n",
              "  </div>\n",
              "  "
            ]
          },
          "metadata": {},
          "execution_count": 73
        }
      ],
      "source": [
        "tmp = pd.DataFrame(project_1, columns=['PC1'])\n",
        "tmp['PC2'] = project_2\n",
        "tmp['PC3'] = project_3\n",
        "tmp['PC4'] = project_4\n",
        "tmp['PC5'] = project_5\n",
        "tmp['PC6'] = project_6\n",
        "tmp['PC7'] = project_7\n",
        "tmp['PC8'] = project_8\n",
        "tmp['PC9'] = project_9\n",
        "tmp['PC10'] = project_10\n",
        "\n",
        "tmp['target'] = output\n",
        "tmp"
      ]
    },
    {
      "cell_type": "code",
      "execution_count": 75,
      "metadata": {
        "id": "DJqiK6OMmhLk"
      },
      "outputs": [],
      "source": [
        "X_train, X_test, y_train, y_test = train_test_split(tmp.drop('target',axis = 1), tmp['target'], test_size=0.2, random_state=42, stratify=tmp['target'])"
      ]
    },
    {
      "cell_type": "markdown",
      "metadata": {
        "id": "OMAlnMgQp0JB"
      },
      "source": [
        "### Trying the new dataset"
      ]
    },
    {
      "cell_type": "code",
      "execution_count": 77,
      "metadata": {
        "id": "lAB36rpKm1_L"
      },
      "outputs": [],
      "source": [
        "input_features = len(tmp.columns) - 1\n",
        "output_features = 2\n",
        "hidden_layers = [1000, 500, 250, 125]\n",
        "batch_size = 8\n",
        "epochs = 10\n",
        "\n",
        "tr = train_model(input_features, output_features, hidden_layers, p=0.4, activation_function = nn.ReLU(inplace = True),drop_able = True)\n",
        "\n",
        "criterion = nn.CrossEntropyLoss()\n",
        "\n",
        "optimizer = torch.optim.Adam(tr.parameters(), lr=0.001)"
      ]
    },
    {
      "cell_type": "markdown",
      "source": [],
      "metadata": {
        "id": "SqlrRV4Nz25m"
      }
    },
    {
      "cell_type": "code",
      "execution_count": 79,
      "metadata": {
        "colab": {
          "base_uri": "https://localhost:8080/"
        },
        "id": "aQvgAe22pzJE",
        "outputId": "373b619c-3d5a-4a7f-c933-951a676c0ac9"
      },
      "outputs": [
        {
          "output_type": "stream",
          "name": "stdout",
          "text": [
            "Epoch:   1  Training Loss: 0.33980221 Test Loss: 0.6885091066360474\n",
            "Epoch:   6  Training Loss: 0.31684917 Test Loss: 0.20784656703472137\n",
            "Epoch: 10  Training Loss: 0.17355546 Test Loss: 0.13611984252929688\n"
          ]
        }
      ],
      "source": [
        "training_losses,valid_losses = minibatch(X_train.values,X_test.values,y_train.values,y_test.values,epochs,batch_size,tr,criterion,optimizer)"
      ]
    },
    {
      "cell_type": "code",
      "execution_count": 80,
      "metadata": {
        "colab": {
          "base_uri": "https://localhost:8080/",
          "height": 715
        },
        "id": "PvGPhlWDq6uu",
        "outputId": "fe46bbc5-4154-423f-f187-1cb5214e03b9"
      },
      "outputs": [
        {
          "output_type": "display_data",
          "data": {
            "text/plain": [
              "<Figure size 432x288 with 1 Axes>"
            ],
            "image/png": "[encoded data removed]"
          },
          "metadata": {
            "needs_background": "light"
          }
        },
        {
          "output_type": "stream",
          "name": "stdout",
          "text": [
            "              precision    recall  f1-score   support\n",
            "\n",
            "         bad       1.00      0.96      0.98        25\n",
            "        good       0.98      1.00      0.99        46\n",
            "\n",
            "    accuracy                           0.99        71\n",
            "   macro avg       0.99      0.98      0.98        71\n",
            "weighted avg       0.99      0.99      0.99        71\n",
            "\n"
          ]
        },
        {
          "output_type": "display_data",
          "data": {
            "text/plain": [
              "<Figure size 432x288 with 2 Axes>"
            ],
            "image/png": "[encoded data removed]"
          },
          "metadata": {
            "needs_background": "light"
          }
        }
      ],
      "source": [
        "diagrams(training_losses,valid_losses,tr,X_test.values,y_test.values)"
      ]
    }
  ],
  "metadata": {
    "colab": {
      "provenance": []
    },
    "interpreter": {
      "hash": "c4743f3265159d618cbfb7986907cf5d87d97b4cb2417375c3879348497beb2d"
    },
    "kernelspec": {
      "display_name": "Python 3 (ipykernel)",
      "language": "python",
      "name": "python3"
    },
    "language_info": {
      "codemirror_mode": {
        "name": "ipython",
        "version": 3
      },
      "file_extension": ".py",
      "mimetype": "text/x-python",
      "name": "python",
      "nbconvert_exporter": "python",
      "pygments_lexer": "ipython3",
      "version": "3.9.5"
    },
    "accelerator": "GPU",
    "gpuClass": "standard"
  },
  "nbformat": 4,
  "nbformat_minor": 0
}